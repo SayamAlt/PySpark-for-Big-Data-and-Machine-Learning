{
 "cells": [
  {
   "cell_type": "code",
   "execution_count": 29,
   "id": "385dadf3",
   "metadata": {},
   "outputs": [],
   "source": [
    "from pyspark.sql import SparkSession\n",
    "from pyspark.ml.classification import LogisticRegression\n",
    "from pyspark.ml.feature import StringIndexer, OneHotEncoder, VectorAssembler, VectorIndexer\n",
    "from pyspark.ml import Pipeline\n",
    "from pyspark.ml.evaluation import BinaryClassificationEvaluator"
   ]
  },
  {
   "cell_type": "code",
   "execution_count": 6,
   "id": "d0f5b409",
   "metadata": {},
   "outputs": [
    {
     "data": {
      "text/html": [
       "\n",
       "            <div>\n",
       "                <p><b>SparkSession - in-memory</b></p>\n",
       "                \n",
       "        <div>\n",
       "            <p><b>SparkContext</b></p>\n",
       "\n",
       "            <p><a href=\"http://DESKTOP-BJS1Q67:4043\">Spark UI</a></p>\n",
       "\n",
       "            <dl>\n",
       "              <dt>Version</dt>\n",
       "                <dd><code>v3.5.0</code></dd>\n",
       "              <dt>Master</dt>\n",
       "                <dd><code>local[*]</code></dd>\n",
       "              <dt>AppName</dt>\n",
       "                <dd><code>titanic</code></dd>\n",
       "            </dl>\n",
       "        </div>\n",
       "        \n",
       "            </div>\n",
       "        "
      ],
      "text/plain": [
       "<pyspark.sql.session.SparkSession at 0x266ab28ff90>"
      ]
     },
     "execution_count": 6,
     "metadata": {},
     "output_type": "execute_result"
    }
   ],
   "source": [
    "spark = SparkSession.builder.appName('titanic').getOrCreate()\n",
    "spark"
   ]
  },
  {
   "cell_type": "code",
   "execution_count": 7,
   "id": "2a05c255",
   "metadata": {},
   "outputs": [
    {
     "name": "stdout",
     "output_type": "stream",
     "text": [
      "root\n",
      " |-- PassengerId: integer (nullable = true)\n",
      " |-- Survived: integer (nullable = true)\n",
      " |-- Pclass: integer (nullable = true)\n",
      " |-- Name: string (nullable = true)\n",
      " |-- Sex: string (nullable = true)\n",
      " |-- Age: double (nullable = true)\n",
      " |-- SibSp: integer (nullable = true)\n",
      " |-- Parch: integer (nullable = true)\n",
      " |-- Ticket: string (nullable = true)\n",
      " |-- Fare: double (nullable = true)\n",
      " |-- Cabin: string (nullable = true)\n",
      " |-- Embarked: string (nullable = true)\n",
      "\n"
     ]
    }
   ],
   "source": [
    "df = spark.read.csv('titanic.csv',inferSchema=True,header=True)\n",
    "df.printSchema()"
   ]
  },
  {
   "cell_type": "code",
   "execution_count": 4,
   "id": "2491d9b3",
   "metadata": {},
   "outputs": [
    {
     "data": {
      "text/plain": [
       "891"
      ]
     },
     "execution_count": 4,
     "metadata": {},
     "output_type": "execute_result"
    }
   ],
   "source": [
    "df.count()"
   ]
  },
  {
   "cell_type": "code",
   "execution_count": 8,
   "id": "438be68b",
   "metadata": {},
   "outputs": [
    {
     "name": "stdout",
     "output_type": "stream",
     "text": [
      "+-----------+--------+------+--------------------+------+----+-----+-----+----------------+-------+-----+--------+\n",
      "|PassengerId|Survived|Pclass|                Name|   Sex| Age|SibSp|Parch|          Ticket|   Fare|Cabin|Embarked|\n",
      "+-----------+--------+------+--------------------+------+----+-----+-----+----------------+-------+-----+--------+\n",
      "|          1|       0|     3|Braund, Mr. Owen ...|  male|22.0|    1|    0|       A/5 21171|   7.25| NULL|       S|\n",
      "|          2|       1|     1|Cumings, Mrs. Joh...|female|38.0|    1|    0|        PC 17599|71.2833|  C85|       C|\n",
      "|          3|       1|     3|Heikkinen, Miss. ...|female|26.0|    0|    0|STON/O2. 3101282|  7.925| NULL|       S|\n",
      "|          4|       1|     1|Futrelle, Mrs. Ja...|female|35.0|    1|    0|          113803|   53.1| C123|       S|\n",
      "|          5|       0|     3|Allen, Mr. Willia...|  male|35.0|    0|    0|          373450|   8.05| NULL|       S|\n",
      "|          6|       0|     3|    Moran, Mr. James|  male|NULL|    0|    0|          330877| 8.4583| NULL|       Q|\n",
      "|          7|       0|     1|McCarthy, Mr. Tim...|  male|54.0|    0|    0|           17463|51.8625|  E46|       S|\n",
      "|          8|       0|     3|Palsson, Master. ...|  male| 2.0|    3|    1|          349909| 21.075| NULL|       S|\n",
      "|          9|       1|     3|Johnson, Mrs. Osc...|female|27.0|    0|    2|          347742|11.1333| NULL|       S|\n",
      "|         10|       1|     2|Nasser, Mrs. Nich...|female|14.0|    1|    0|          237736|30.0708| NULL|       C|\n",
      "|         11|       1|     3|Sandstrom, Miss. ...|female| 4.0|    1|    1|         PP 9549|   16.7|   G6|       S|\n",
      "|         12|       1|     1|Bonnell, Miss. El...|female|58.0|    0|    0|          113783|  26.55| C103|       S|\n",
      "|         13|       0|     3|Saundercock, Mr. ...|  male|20.0|    0|    0|       A/5. 2151|   8.05| NULL|       S|\n",
      "|         14|       0|     3|Andersson, Mr. An...|  male|39.0|    1|    5|          347082| 31.275| NULL|       S|\n",
      "|         15|       0|     3|Vestrom, Miss. Hu...|female|14.0|    0|    0|          350406| 7.8542| NULL|       S|\n",
      "|         16|       1|     2|Hewlett, Mrs. (Ma...|female|55.0|    0|    0|          248706|   16.0| NULL|       S|\n",
      "|         17|       0|     3|Rice, Master. Eugene|  male| 2.0|    4|    1|          382652| 29.125| NULL|       Q|\n",
      "|         18|       1|     2|Williams, Mr. Cha...|  male|NULL|    0|    0|          244373|   13.0| NULL|       S|\n",
      "|         19|       0|     3|Vander Planke, Mr...|female|31.0|    1|    0|          345763|   18.0| NULL|       S|\n",
      "|         20|       1|     3|Masselmani, Mrs. ...|female|NULL|    0|    0|            2649|  7.225| NULL|       C|\n",
      "+-----------+--------+------+--------------------+------+----+-----+-----+----------------+-------+-----+--------+\n",
      "only showing top 20 rows\n",
      "\n"
     ]
    }
   ],
   "source": [
    "df.show()"
   ]
  },
  {
   "cell_type": "code",
   "execution_count": 9,
   "id": "d1439acf",
   "metadata": {},
   "outputs": [
    {
     "name": "stdout",
     "output_type": "stream",
     "text": [
      "+--------------------+-----+\n",
      "|                Name|count|\n",
      "+--------------------+-----+\n",
      "|\"Watt, Mrs. James...|    1|\n",
      "|Young, Miss. Mari...|    1|\n",
      "|Parr, Mr. William...|    1|\n",
      "|Soholt, Mr. Peter...|    1|\n",
      "|Goldsmith, Mrs. F...|    1|\n",
      "|    Dimic, Mr. Jovan|    1|\n",
      "|Harper, Mr. Henry...|    1|\n",
      "|Reuchlin, Jonkhee...|    1|\n",
      "|Fahlstrom, Mr. Ar...|    1|\n",
      "|Hosono, Mr. Masabumi|    1|\n",
      "| Partner, Mr. Austen|    1|\n",
      "|Van Impe, Miss. C...|    1|\n",
      "|Bjornstrom-Steffa...|    1|\n",
      "|    Saad, Mr. Khalil|    1|\n",
      "| Sirota, Mr. Maurice|    1|\n",
      "|Slemen, Mr. Richa...|    1|\n",
      "|McCormack, Mr. Th...|    1|\n",
      "|Potter, Mrs. Thom...|    1|\n",
      "|Palsson, Miss. St...|    1|\n",
      "|\"Nakid, Miss. Mar...|    1|\n",
      "+--------------------+-----+\n",
      "only showing top 20 rows\n",
      "\n"
     ]
    }
   ],
   "source": [
    "df.groupBy('Name').count().show()"
   ]
  },
  {
   "cell_type": "code",
   "execution_count": 11,
   "id": "e9057223",
   "metadata": {},
   "outputs": [
    {
     "data": {
      "text/plain": [
       "DataFrame[cabin: string, count: bigint]"
      ]
     },
     "execution_count": 11,
     "metadata": {},
     "output_type": "execute_result"
    }
   ],
   "source": [
    "df.groupBy('cabin').count()"
   ]
  },
  {
   "cell_type": "code",
   "execution_count": 12,
   "id": "cc4f5697",
   "metadata": {},
   "outputs": [
    {
     "name": "stdout",
     "output_type": "stream",
     "text": [
      "+--------+-----+\n",
      "|Embarked|count|\n",
      "+--------+-----+\n",
      "|       Q|   77|\n",
      "|    NULL|    2|\n",
      "|       C|  168|\n",
      "|       S|  644|\n",
      "+--------+-----+\n",
      "\n"
     ]
    }
   ],
   "source": [
    "df.groupBy('Embarked').count().show()"
   ]
  },
  {
   "cell_type": "code",
   "execution_count": 13,
   "id": "2233a5de",
   "metadata": {},
   "outputs": [
    {
     "data": {
      "text/plain": [
       "['PassengerId',\n",
       " 'Survived',\n",
       " 'Pclass',\n",
       " 'Name',\n",
       " 'Sex',\n",
       " 'Age',\n",
       " 'SibSp',\n",
       " 'Parch',\n",
       " 'Ticket',\n",
       " 'Fare',\n",
       " 'Cabin',\n",
       " 'Embarked']"
      ]
     },
     "execution_count": 13,
     "metadata": {},
     "output_type": "execute_result"
    }
   ],
   "source": [
    "df.columns"
   ]
  },
  {
   "cell_type": "code",
   "execution_count": 14,
   "id": "047bf115",
   "metadata": {},
   "outputs": [
    {
     "name": "stdout",
     "output_type": "stream",
     "text": [
      "+------+------+----+-----+-----+-------+--------+--------+\n",
      "|Pclass|   Sex| Age|SibSp|Parch|   Fare|Embarked|Survived|\n",
      "+------+------+----+-----+-----+-------+--------+--------+\n",
      "|     3|  male|22.0|    1|    0|   7.25|       S|       0|\n",
      "|     1|female|38.0|    1|    0|71.2833|       C|       1|\n",
      "|     3|female|26.0|    0|    0|  7.925|       S|       1|\n",
      "|     1|female|35.0|    1|    0|   53.1|       S|       1|\n",
      "|     3|  male|35.0|    0|    0|   8.05|       S|       0|\n",
      "|     3|  male|NULL|    0|    0| 8.4583|       Q|       0|\n",
      "|     1|  male|54.0|    0|    0|51.8625|       S|       0|\n",
      "|     3|  male| 2.0|    3|    1| 21.075|       S|       0|\n",
      "|     3|female|27.0|    0|    2|11.1333|       S|       1|\n",
      "|     2|female|14.0|    1|    0|30.0708|       C|       1|\n",
      "|     3|female| 4.0|    1|    1|   16.7|       S|       1|\n",
      "|     1|female|58.0|    0|    0|  26.55|       S|       1|\n",
      "|     3|  male|20.0|    0|    0|   8.05|       S|       0|\n",
      "|     3|  male|39.0|    1|    5| 31.275|       S|       0|\n",
      "|     3|female|14.0|    0|    0| 7.8542|       S|       0|\n",
      "|     2|female|55.0|    0|    0|   16.0|       S|       1|\n",
      "|     3|  male| 2.0|    4|    1| 29.125|       Q|       0|\n",
      "|     2|  male|NULL|    0|    0|   13.0|       S|       1|\n",
      "|     3|female|31.0|    1|    0|   18.0|       S|       0|\n",
      "|     3|female|NULL|    0|    0|  7.225|       C|       1|\n",
      "+------+------+----+-----+-----+-------+--------+--------+\n",
      "only showing top 20 rows\n",
      "\n"
     ]
    }
   ],
   "source": [
    "cols = ['Pclass','Sex','Age','SibSp','Parch','Fare','Embarked','Survived']\n",
    "filtered_df = df.select(cols)\n",
    "filtered_df.show()"
   ]
  },
  {
   "cell_type": "code",
   "execution_count": 15,
   "id": "892eff6a",
   "metadata": {},
   "outputs": [
    {
     "name": "stdout",
     "output_type": "stream",
     "text": [
      "+------+------+----+-----+-----+-------+--------+--------+\n",
      "|Pclass|   Sex| Age|SibSp|Parch|   Fare|Embarked|Survived|\n",
      "+------+------+----+-----+-----+-------+--------+--------+\n",
      "|     3|  male|22.0|    1|    0|   7.25|       S|       0|\n",
      "|     1|female|38.0|    1|    0|71.2833|       C|       1|\n",
      "|     3|female|26.0|    0|    0|  7.925|       S|       1|\n",
      "|     1|female|35.0|    1|    0|   53.1|       S|       1|\n",
      "|     3|  male|35.0|    0|    0|   8.05|       S|       0|\n",
      "|     1|  male|54.0|    0|    0|51.8625|       S|       0|\n",
      "|     3|  male| 2.0|    3|    1| 21.075|       S|       0|\n",
      "|     3|female|27.0|    0|    2|11.1333|       S|       1|\n",
      "|     2|female|14.0|    1|    0|30.0708|       C|       1|\n",
      "|     3|female| 4.0|    1|    1|   16.7|       S|       1|\n",
      "|     1|female|58.0|    0|    0|  26.55|       S|       1|\n",
      "|     3|  male|20.0|    0|    0|   8.05|       S|       0|\n",
      "|     3|  male|39.0|    1|    5| 31.275|       S|       0|\n",
      "|     3|female|14.0|    0|    0| 7.8542|       S|       0|\n",
      "|     2|female|55.0|    0|    0|   16.0|       S|       1|\n",
      "|     3|  male| 2.0|    4|    1| 29.125|       Q|       0|\n",
      "|     3|female|31.0|    1|    0|   18.0|       S|       0|\n",
      "|     2|  male|35.0|    0|    0|   26.0|       S|       0|\n",
      "|     2|  male|34.0|    0|    0|   13.0|       S|       1|\n",
      "|     3|female|15.0|    0|    0| 8.0292|       Q|       1|\n",
      "+------+------+----+-----+-----+-------+--------+--------+\n",
      "only showing top 20 rows\n",
      "\n"
     ]
    }
   ],
   "source": [
    "final_df = filtered_df.na.drop()\n",
    "final_df.show()"
   ]
  },
  {
   "cell_type": "code",
   "execution_count": 17,
   "id": "ac7f8d6d",
   "metadata": {},
   "outputs": [],
   "source": [
    "gender_indexer = StringIndexer(inputCol='Sex',outputCol='SexIndex')\n",
    "gender_encoder = OneHotEncoder(inputCol='SexIndex',outputCol='SexVec')"
   ]
  },
  {
   "cell_type": "code",
   "execution_count": 18,
   "id": "82a234ef",
   "metadata": {},
   "outputs": [],
   "source": [
    "embarked_indexer = StringIndexer(inputCol='Embarked',outputCol='EmbarkedIndex')\n",
    "embarked_encoder = OneHotEncoder(inputCol='EmbarkedIndex',outputCol='EmbarkedVec')"
   ]
  },
  {
   "cell_type": "code",
   "execution_count": 21,
   "id": "681fd13b",
   "metadata": {},
   "outputs": [
    {
     "data": {
      "text/plain": [
       "VectorAssembler_ed12579348cf"
      ]
     },
     "execution_count": 21,
     "metadata": {},
     "output_type": "execute_result"
    }
   ],
   "source": [
    "assembler = VectorAssembler(inputCols=['Pclass','SexVec','Age','SibSp','EmbarkedVec','Parch','Fare'],outputCol='features')\n",
    "assembler"
   ]
  },
  {
   "cell_type": "code",
   "execution_count": 22,
   "id": "2a49bb1e",
   "metadata": {},
   "outputs": [
    {
     "data": {
      "text/plain": [
       "LogisticRegression_539cb118365d"
      ]
     },
     "execution_count": 22,
     "metadata": {},
     "output_type": "execute_result"
    }
   ],
   "source": [
    "log_reg_model = LogisticRegression(featuresCol='features',labelCol='Survived')\n",
    "log_reg_model"
   ]
  },
  {
   "cell_type": "code",
   "execution_count": 23,
   "id": "1ca85e7d",
   "metadata": {},
   "outputs": [
    {
     "data": {
      "text/plain": [
       "Pipeline_be41a8241781"
      ]
     },
     "execution_count": 23,
     "metadata": {},
     "output_type": "execute_result"
    }
   ],
   "source": [
    "pipeline = Pipeline(stages=[gender_indexer,embarked_indexer,gender_encoder,embarked_encoder,assembler,log_reg_model])\n",
    "pipeline"
   ]
  },
  {
   "cell_type": "code",
   "execution_count": 24,
   "id": "4b52cef1",
   "metadata": {},
   "outputs": [],
   "source": [
    "train_df, test_df = final_df.randomSplit([0.7,0.3])"
   ]
  },
  {
   "cell_type": "code",
   "execution_count": 25,
   "id": "b8cc9953",
   "metadata": {},
   "outputs": [],
   "source": [
    "lr_model = pipeline.fit(train_df)"
   ]
  },
  {
   "cell_type": "code",
   "execution_count": 26,
   "id": "dc4b9110",
   "metadata": {},
   "outputs": [
    {
     "data": {
      "text/plain": [
       "DataFrame[Pclass: int, Sex: string, Age: double, SibSp: int, Parch: int, Fare: double, Embarked: string, Survived: int, SexIndex: double, EmbarkedIndex: double, SexVec: vector, EmbarkedVec: vector, features: vector, rawPrediction: vector, probability: vector, prediction: double]"
      ]
     },
     "execution_count": 26,
     "metadata": {},
     "output_type": "execute_result"
    }
   ],
   "source": [
    "test_results = lr_model.transform(test_df)\n",
    "test_results"
   ]
  },
  {
   "cell_type": "code",
   "execution_count": 27,
   "id": "193056b1",
   "metadata": {},
   "outputs": [
    {
     "name": "stdout",
     "output_type": "stream",
     "text": [
      "+------+------+----+-----+-----+--------+--------+--------+--------+-------------+---------+-------------+--------------------+--------------------+--------------------+----------+\n",
      "|Pclass|   Sex| Age|SibSp|Parch|    Fare|Embarked|Survived|SexIndex|EmbarkedIndex|   SexVec|  EmbarkedVec|            features|       rawPrediction|         probability|prediction|\n",
      "+------+------+----+-----+-----+--------+--------+--------+--------+-------------+---------+-------------+--------------------+--------------------+--------------------+----------+\n",
      "|     1|female|16.0|    0|    0|    86.5|       S|       1|     1.0|          0.0|(1,[],[])|(2,[0],[1.0])|(8,[0,2,4,7],[1.0...|[-3.4828536392017...|[0.02980405381359...|       1.0|\n",
      "|     1|female|16.0|    0|    1| 57.9792|       C|       1|     1.0|          1.0|(1,[],[])|(2,[1],[1.0])|[1.0,0.0,16.0,0.0...|[-3.6151922017768...|[0.02620648967643...|       1.0|\n",
      "|     1|female|18.0|    2|    2| 262.375|       C|       1|     1.0|          1.0|(1,[],[])|(2,[1],[1.0])|[1.0,0.0,18.0,2.0...|[-2.8014313211403...|[0.05724687899222...|       1.0|\n",
      "|     1|female|22.0|    0|    1|    55.0|       S|       1|     1.0|          0.0|(1,[],[])|(2,[0],[1.0])|[1.0,0.0,22.0,0.0...|[-3.1301044970503...|[0.04188241357046...|       1.0|\n",
      "|     1|female|24.0|    0|    0| 83.1583|       C|       1|     1.0|          1.0|(1,[],[])|(2,[1],[1.0])|(8,[0,2,5,7],[1.0...|[-3.4036496513654...|[0.03218159857831...|       1.0|\n",
      "|     1|female|24.0|    3|    2|   263.0|       S|       1|     1.0|          0.0|(1,[],[])|(2,[0],[1.0])|[1.0,0.0,24.0,3.0...|[-1.8429201909516...|[0.13670629264699...|       1.0|\n",
      "|     1|female|26.0|    0|    0|   78.85|       S|       1|     1.0|          0.0|(1,[],[])|(2,[0],[1.0])|(8,[0,2,4,7],[1.0...|[-3.0753026644114...|[0.04413756955301...|       1.0|\n",
      "|     1|female|30.0|    0|    0| 56.9292|       C|       1|     1.0|          1.0|(1,[],[])|(2,[1],[1.0])|(8,[0,2,5,7],[1.0...|[-3.1281590852915...|[0.04196054920437...|       1.0|\n",
      "|     1|female|30.0|    0|    0|    86.5|       S|       1|     1.0|          0.0|(1,[],[])|(2,[0],[1.0])|(8,[0,2,4,7],[1.0...|[-2.9276055272484...|[0.05080567295687...|       1.0|\n",
      "|     1|female|30.0|    0|    0| 106.425|       C|       1|     1.0|          1.0|(1,[],[])|(2,[1],[1.0])|(8,[0,2,5,7],[1.0...|[-3.1989748325946...|[0.03920431989083...|       1.0|\n",
      "|     1|female|35.0|    1|    0|    53.1|       S|       1|     1.0|          0.0|(1,[],[])|(2,[0],[1.0])|[1.0,0.0,35.0,1.0...|[-2.2029357210442...|[0.09948716999853...|       1.0|\n",
      "|     1|female|35.0|    1|    0|    90.0|       S|       1|     1.0|          0.0|(1,[],[])|(2,[0],[1.0])|[1.0,0.0,35.0,1.0...|[-2.2557301212859...|[0.09485634116919...|       1.0|\n",
      "|     1|female|36.0|    1|    2|   120.0|       S|       1|     1.0|          0.0|(1,[],[])|(2,[0],[1.0])|[1.0,0.0,36.0,1.0...|[-2.1195572681805...|[0.10721043979662...|       1.0|\n",
      "|     1|female|39.0|    1|    1| 83.1583|       C|       1|     1.0|          1.0|(1,[],[])|(2,[1],[1.0])|[1.0,0.0,39.0,1.0...|[-2.2604435770619...|[0.09445242246282...|       1.0|\n",
      "|     1|female|39.0|    1|    1|110.8833|       C|       1|     1.0|          1.0|(1,[],[])|(2,[1],[1.0])|[1.0,0.0,39.0,1.0...|[-2.3001109143709...|[0.09111377555125...|       1.0|\n",
      "|     1|female|40.0|    0|    0|153.4625|       S|       1|     1.0|          0.0|(1,[],[])|(2,[0],[1.0])|(8,[0,2,4,7],[1.0...|[-2.6268058312666...|[0.06743304120256...|       1.0|\n",
      "|     1|female|44.0|    0|    0| 27.7208|       C|       1|     1.0|          1.0|(1,[],[])|(2,[1],[1.0])|(8,[0,2,5,7],[1.0...|[-2.5311212725245...|[0.07370505778608...|       1.0|\n",
      "|     1|female|53.0|    2|    0| 51.4792|       S|       1|     1.0|          0.0|(1,[],[])|(2,[0],[1.0])|[1.0,0.0,53.0,2.0...|[-1.0081462360831...|[0.26734279201806...|       1.0|\n",
      "|     1|female|54.0|    1|    0|    59.4|       C|       1|     1.0|          1.0|(1,[],[])|(2,[1],[1.0])|[1.0,0.0,54.0,1.0...|[-1.7012601500129...|[0.15430075390395...|       1.0|\n",
      "|     1|female|54.0|    1|    0| 78.2667|       C|       1|     1.0|          1.0|(1,[],[])|(2,[1],[1.0])|[1.0,0.0,54.0,1.0...|[-1.7282535405560...|[0.15081110739841...|       1.0|\n",
      "+------+------+----+-----+-----+--------+--------+--------+--------+-------------+---------+-------------+--------------------+--------------------+--------------------+----------+\n",
      "only showing top 20 rows\n",
      "\n"
     ]
    }
   ],
   "source": [
    "test_results.show()"
   ]
  },
  {
   "cell_type": "code",
   "execution_count": 28,
   "id": "d030e6f2",
   "metadata": {},
   "outputs": [
    {
     "name": "stdout",
     "output_type": "stream",
     "text": [
      "+----------+--------+\n",
      "|prediction|Survived|\n",
      "+----------+--------+\n",
      "|       1.0|       1|\n",
      "|       1.0|       1|\n",
      "|       1.0|       1|\n",
      "|       1.0|       1|\n",
      "|       1.0|       1|\n",
      "|       1.0|       1|\n",
      "|       1.0|       1|\n",
      "|       1.0|       1|\n",
      "|       1.0|       1|\n",
      "|       1.0|       1|\n",
      "|       1.0|       1|\n",
      "|       1.0|       1|\n",
      "|       1.0|       1|\n",
      "|       1.0|       1|\n",
      "|       1.0|       1|\n",
      "|       1.0|       1|\n",
      "|       1.0|       1|\n",
      "|       1.0|       1|\n",
      "|       1.0|       1|\n",
      "|       1.0|       1|\n",
      "+----------+--------+\n",
      "only showing top 20 rows\n",
      "\n"
     ]
    }
   ],
   "source": [
    "test_results.select('prediction','Survived').show()"
   ]
  },
  {
   "cell_type": "code",
   "execution_count": 30,
   "id": "27ebf0d0",
   "metadata": {},
   "outputs": [
    {
     "data": {
      "text/plain": [
       "BinaryClassificationEvaluator_b82be9095c90"
      ]
     },
     "execution_count": 30,
     "metadata": {},
     "output_type": "execute_result"
    }
   ],
   "source": [
    "evaluator = BinaryClassificationEvaluator(rawPredictionCol='prediction',labelCol='Survived')\n",
    "evaluator"
   ]
  },
  {
   "cell_type": "code",
   "execution_count": 31,
   "id": "d4f021ac",
   "metadata": {},
   "outputs": [
    {
     "data": {
      "text/plain": [
       "0.7849300427516518"
      ]
     },
     "execution_count": 31,
     "metadata": {},
     "output_type": "execute_result"
    }
   ],
   "source": [
    "area_under_roc = evaluator.evaluate(test_results)\n",
    "area_under_roc"
   ]
  },
  {
   "cell_type": "code",
   "execution_count": 32,
   "id": "fe11ecf3",
   "metadata": {},
   "outputs": [
    {
     "data": {
      "text/plain": [
       "0.7448053081892788"
      ]
     },
     "execution_count": 32,
     "metadata": {},
     "output_type": "execute_result"
    }
   ],
   "source": [
    "evaluator = BinaryClassificationEvaluator(rawPredictionCol='prediction',labelCol='Survived',metricName='areaUnderPR')\n",
    "area_under_pr = evaluator.evaluate(test_results)\n",
    "area_under_pr"
   ]
  }
 ],
 "metadata": {
  "kernelspec": {
   "display_name": "Python 3 (ipykernel)",
   "language": "python",
   "name": "python3"
  },
  "language_info": {
   "codemirror_mode": {
    "name": "ipython",
    "version": 3
   },
   "file_extension": ".py",
   "mimetype": "text/x-python",
   "name": "python",
   "nbconvert_exporter": "python",
   "pygments_lexer": "ipython3",
   "version": "3.11.5"
  }
 },
 "nbformat": 4,
 "nbformat_minor": 5
}
