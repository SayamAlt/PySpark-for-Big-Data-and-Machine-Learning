{
 "cells": [
  {
   "cell_type": "markdown",
   "metadata": {},
   "source": [
    "# Consulting Project \n",
    "## Recommender Systems - Solutions"
   ]
  },
  {
   "cell_type": "markdown",
   "metadata": {},
   "source": [
    "The whole world seems to be hearing about your new amazing abilities to analyze big data and build useful systems for them! You've just taken up a new contract with a new online food delivery company. This company is trying to differentiate itself by recommending new meals to customers based off of other customers likings.\n",
    "\n",
    "Can you build them a recommendation system?\n",
    "\n",
    "Your final result should be in the form of a function that can take in a Spark DataFrame of a single customer's ratings for various meals and output their top 3 suggested meals. For example:\n",
    "\n",
    "Best of luck!\n",
    "\n",
    "** *Note from Jose: I completely made up this food data, so its likely that the actual recommendations themselves won't make any sense. But you should get a similar output to what I did given the example customer dataframe* **"
   ]
  },
  {
   "cell_type": "code",
   "execution_count": 78,
   "metadata": {},
   "outputs": [],
   "source": [
    "from pyspark.sql import SparkSession\n",
    "from pyspark.ml.recommendation import ALS\n",
    "from pyspark.ml.evaluation import RegressionEvaluator\n",
    "from pyspark.ml.feature import StringIndexer, IndexToString"
   ]
  },
  {
   "cell_type": "code",
   "execution_count": 2,
   "metadata": {},
   "outputs": [
    {
     "data": {
      "text/html": [
       "\n",
       "            <div>\n",
       "                <p><b>SparkSession - in-memory</b></p>\n",
       "                \n",
       "        <div>\n",
       "            <p><b>SparkContext</b></p>\n",
       "\n",
       "            <p><a href=\"http://DESKTOP-BJS1Q67:4045\">Spark UI</a></p>\n",
       "\n",
       "            <dl>\n",
       "              <dt>Version</dt>\n",
       "                <dd><code>v3.5.0</code></dd>\n",
       "              <dt>Master</dt>\n",
       "                <dd><code>local[*]</code></dd>\n",
       "              <dt>AppName</dt>\n",
       "                <dd><code>recommendation_consult</code></dd>\n",
       "            </dl>\n",
       "        </div>\n",
       "        \n",
       "            </div>\n",
       "        "
      ],
      "text/plain": [
       "<pyspark.sql.session.SparkSession at 0x16c330b9250>"
      ]
     },
     "execution_count": 2,
     "metadata": {},
     "output_type": "execute_result"
    }
   ],
   "source": [
    "spark = SparkSession.builder.appName('recommendation_consult').getOrCreate()\n",
    "spark"
   ]
  },
  {
   "cell_type": "code",
   "execution_count": 3,
   "metadata": {},
   "outputs": [
    {
     "name": "stdout",
     "output_type": "stream",
     "text": [
      "root\n",
      " |-- movieId: integer (nullable = true)\n",
      " |-- rating: double (nullable = true)\n",
      " |-- userId: integer (nullable = true)\n",
      " |-- mealskew: double (nullable = true)\n",
      " |-- meal_name: string (nullable = true)\n",
      "\n"
     ]
    }
   ],
   "source": [
    "df = spark.read.csv('meal_info.csv',inferSchema=True,header=True)\n",
    "df.printSchema()"
   ]
  },
  {
   "cell_type": "code",
   "execution_count": 4,
   "metadata": {},
   "outputs": [
    {
     "data": {
      "text/plain": [
       "1501"
      ]
     },
     "execution_count": 4,
     "metadata": {},
     "output_type": "execute_result"
    }
   ],
   "source": [
    "df.count()"
   ]
  },
  {
   "cell_type": "code",
   "execution_count": 5,
   "metadata": {},
   "outputs": [
    {
     "name": "stdout",
     "output_type": "stream",
     "text": [
      "+-------+------+------+--------+--------------------+\n",
      "|movieId|rating|userId|mealskew|           meal_name|\n",
      "+-------+------+------+--------+--------------------+\n",
      "|      2|   3.0|     0|     2.0|       Chicken Curry|\n",
      "|      3|   1.0|     0|     3.0|Spicy Chicken Nug...|\n",
      "|      5|   2.0|     0|     5.0|           Hamburger|\n",
      "|      9|   4.0|     0|     9.0|       Taco Surprise|\n",
      "|     11|   1.0|     0|    11.0|            Meatloaf|\n",
      "+-------+------+------+--------+--------------------+\n",
      "only showing top 5 rows\n",
      "\n"
     ]
    }
   ],
   "source": [
    "df.show(5)"
   ]
  },
  {
   "cell_type": "code",
   "execution_count": 6,
   "metadata": {},
   "outputs": [
    {
     "name": "stdout",
     "output_type": "stream",
     "text": [
      "+-------+------------------+------------------+------------------+------------------+-------------------+\n",
      "|summary|           movieId|            rating|            userId|          mealskew|          meal_name|\n",
      "+-------+------------------+------------------+------------------+------------------+-------------------+\n",
      "|  count|              1501|              1501|              1501|               486|                486|\n",
      "|   mean| 49.40572951365756|1.7741505662891406|14.383744170552964|15.502057613168724|               NULL|\n",
      "| stddev|28.937034065088994| 1.187276166124803| 8.591040424293272| 9.250633630277568|               NULL|\n",
      "|    min|                 0|               1.0|                 0|               0.0|           BBQ Ribs|\n",
      "|    max|                99|               5.0|                29|              31.0|Vietnamese Sandwich|\n",
      "+-------+------------------+------------------+------------------+------------------+-------------------+\n",
      "\n"
     ]
    }
   ],
   "source": [
    "df.describe().show()"
   ]
  },
  {
   "cell_type": "code",
   "execution_count": 41,
   "metadata": {},
   "outputs": [
    {
     "data": {
      "text/plain": [
       "StringIndexer_a34eb663bcfd"
      ]
     },
     "execution_count": 41,
     "metadata": {},
     "output_type": "execute_result"
    }
   ],
   "source": [
    "indexer = StringIndexer(inputCol='meal_name',outputCol='meal_name_index',handleInvalid='skip')\n",
    "indexer"
   ]
  },
  {
   "cell_type": "code",
   "execution_count": 43,
   "metadata": {},
   "outputs": [
    {
     "name": "stdout",
     "output_type": "stream",
     "text": [
      "root\n",
      " |-- movieId: integer (nullable = true)\n",
      " |-- rating: double (nullable = true)\n",
      " |-- userId: integer (nullable = true)\n",
      " |-- mealskew: double (nullable = true)\n",
      " |-- meal_name: string (nullable = true)\n",
      " |-- meal_name_index: double (nullable = false)\n",
      "\n"
     ]
    }
   ],
   "source": [
    "indexer_model = indexer.fit(df)\n",
    "output = indexer_model.transform(df)\n",
    "output.printSchema()"
   ]
  },
  {
   "cell_type": "code",
   "execution_count": 44,
   "metadata": {},
   "outputs": [
    {
     "name": "stdout",
     "output_type": "stream",
     "text": [
      "+-------+------+------+--------+--------------------+---------------+\n",
      "|movieId|rating|userId|mealskew|           meal_name|meal_name_index|\n",
      "+-------+------+------+--------+--------------------+---------------+\n",
      "|      2|   3.0|     0|     2.0|       Chicken Curry|            4.0|\n",
      "|      3|   1.0|     0|     3.0|Spicy Chicken Nug...|           26.0|\n",
      "|      5|   2.0|     0|     5.0|           Hamburger|           24.0|\n",
      "|      9|   4.0|     0|     9.0|       Taco Surprise|           13.0|\n",
      "|     11|   1.0|     0|    11.0|            Meatloaf|           28.0|\n",
      "+-------+------+------+--------+--------------------+---------------+\n",
      "only showing top 5 rows\n",
      "\n"
     ]
    }
   ],
   "source": [
    "output.show(5)"
   ]
  },
  {
   "cell_type": "code",
   "execution_count": 48,
   "metadata": {},
   "outputs": [
    {
     "name": "stdout",
     "output_type": "stream",
     "text": [
      "+--------------------+-----+\n",
      "|           meal_name|count|\n",
      "+--------------------+-----+\n",
      "| Penne Tomatoe Pasta|   12|\n",
      "|              Nachos|   16|\n",
      "|   Pulled Pork Plate|   20|\n",
      "|    Spicy Beef Plate|   14|\n",
      "|   Roasted Eggplant |   15|\n",
      "|           Hamburger|   13|\n",
      "|        Ceaser Salad|   17|\n",
      "|       Chicken Curry|   19|\n",
      "|      Orange Chicken|   15|\n",
      "|    Fried Rice Plate|   11|\n",
      "|   Chicken Chow Mein|    7|\n",
      "|     Southwest Salad|   13|\n",
      "|         Sushi Plate|   13|\n",
      "|Cheesesteak Sandw...|   17|\n",
      "|               Chili|   14|\n",
      "|    Kung Pao Chicken|   18|\n",
      "|             Burrito|   13|\n",
      "| Roast Beef Sandwich|   14|\n",
      "|            Meatloaf|   12|\n",
      "|       Taco Surprise|   16|\n",
      "+--------------------+-----+\n",
      "only showing top 20 rows\n",
      "\n"
     ]
    }
   ],
   "source": [
    "output.groupBy('meal_name').count().show()"
   ]
  },
  {
   "cell_type": "code",
   "execution_count": 50,
   "metadata": {},
   "outputs": [
    {
     "name": "stdout",
     "output_type": "stream",
     "text": [
      "+---------------+-----+\n",
      "|meal_name_index|count|\n",
      "+---------------+-----+\n",
      "|            8.0|   17|\n",
      "|            0.0|   20|\n",
      "|            7.0|   17|\n",
      "|           29.0|   12|\n",
      "|           18.0|   15|\n",
      "|            1.0|   20|\n",
      "|           25.0|   13|\n",
      "|            4.0|   19|\n",
      "|           23.0|   13|\n",
      "|           31.0|    7|\n",
      "|           11.0|   16|\n",
      "|           21.0|   14|\n",
      "|           14.0|   15|\n",
      "|           22.0|   14|\n",
      "|            3.0|   19|\n",
      "|           19.0|   14|\n",
      "|           28.0|   12|\n",
      "|            2.0|   20|\n",
      "|           17.0|   15|\n",
      "|           27.0|   13|\n",
      "+---------------+-----+\n",
      "only showing top 20 rows\n",
      "\n"
     ]
    }
   ],
   "source": [
    "output.groupBy('meal_name_index').count().show()"
   ]
  },
  {
   "cell_type": "code",
   "execution_count": 51,
   "metadata": {},
   "outputs": [
    {
     "data": {
      "text/plain": [
       "['movieId', 'rating', 'userId', 'mealskew', 'meal_name', 'meal_name_index']"
      ]
     },
     "execution_count": 51,
     "metadata": {},
     "output_type": "execute_result"
    }
   ],
   "source": [
    "output.columns"
   ]
  },
  {
   "cell_type": "code",
   "execution_count": 52,
   "metadata": {},
   "outputs": [
    {
     "data": {
      "text/plain": [
       "486"
      ]
     },
     "execution_count": 52,
     "metadata": {},
     "output_type": "execute_result"
    }
   ],
   "source": [
    "output.count()"
   ]
  },
  {
   "cell_type": "code",
   "execution_count": 53,
   "metadata": {},
   "outputs": [],
   "source": [
    "train, test = output.randomSplit([0.7,0.3],seed=36)"
   ]
  },
  {
   "cell_type": "code",
   "execution_count": 55,
   "metadata": {},
   "outputs": [
    {
     "data": {
      "text/plain": [
       "(340, 146)"
      ]
     },
     "execution_count": 55,
     "metadata": {},
     "output_type": "execute_result"
    }
   ],
   "source": [
    "train.count(), test.count()"
   ]
  },
  {
   "cell_type": "code",
   "execution_count": 56,
   "metadata": {},
   "outputs": [
    {
     "data": {
      "text/plain": [
       "ALS_bae8a72677a4"
      ]
     },
     "execution_count": 56,
     "metadata": {},
     "output_type": "execute_result"
    }
   ],
   "source": [
    "als = ALS(userCol='userId',itemCol='meal_name_index',ratingCol='rating')\n",
    "als"
   ]
  },
  {
   "cell_type": "code",
   "execution_count": 57,
   "metadata": {},
   "outputs": [
    {
     "data": {
      "text/plain": [
       "ALSModel: uid=ALS_bae8a72677a4, rank=10"
      ]
     },
     "execution_count": 57,
     "metadata": {},
     "output_type": "execute_result"
    }
   ],
   "source": [
    "als_model = als.fit(train)\n",
    "als_model"
   ]
  },
  {
   "cell_type": "code",
   "execution_count": 58,
   "metadata": {},
   "outputs": [
    {
     "name": "stdout",
     "output_type": "stream",
     "text": [
      "+-------+------+------+--------+--------------------+---------------+----------+\n",
      "|movieId|rating|userId|mealskew|           meal_name|meal_name_index|prediction|\n",
      "+-------+------+------+--------+--------------------+---------------+----------+\n",
      "|      1|   1.0|    26|     1.0|             Burrito|           23.0| 1.7785635|\n",
      "|      3|   2.0|    22|     3.0|Spicy Chicken Nug...|           26.0| 0.8549367|\n",
      "|      3|   1.0|     1|     3.0|Spicy Chicken Nug...|           26.0| 0.5430573|\n",
      "|      6|   1.0|     1|     6.0|  Spicy Pork Sliders|            2.0| 1.4198838|\n",
      "|      1|   1.0|     3|     1.0|             Burrito|           23.0| 1.3585114|\n",
      "|      1|   1.0|    20|     1.0|             Burrito|           23.0| 0.9114408|\n",
      "|      0|   1.0|     5|     0.0|        Cheese Pizza|           10.0|0.82214355|\n",
      "|      4|   1.0|    19|     4.0|Pretzels and Chee...|            9.0| 1.6613698|\n",
      "|      5|   1.0|     9|     5.0|           Hamburger|           24.0| 1.1191124|\n",
      "|      0|   1.0|     8|     0.0|        Cheese Pizza|           10.0| 1.3508617|\n",
      "|      4|   2.0|     8|     4.0|Pretzels and Chee...|            9.0| 1.7249646|\n",
      "|      4|   1.0|    23|     4.0|Pretzels and Chee...|            9.0|0.89899313|\n",
      "|      1|   1.0|     7|     1.0|             Burrito|           23.0| 0.8533186|\n",
      "|      2|   2.0|     7|     2.0|       Chicken Curry|            4.0| 3.1249466|\n",
      "|      4|   1.0|     7|     4.0|Pretzels and Chee...|            9.0| 1.0522466|\n",
      "|      2|   4.0|    10|     2.0|       Chicken Curry|            4.0| 2.3330684|\n",
      "|      3|   3.0|    14|     3.0|Spicy Chicken Nug...|           26.0| 1.2587126|\n",
      "|      4|   1.0|    14|     4.0|Pretzels and Chee...|            9.0|  1.520835|\n",
      "|      3|   1.0|     0|     3.0|Spicy Chicken Nug...|           26.0| 0.6579107|\n",
      "|      5|   2.0|     0|     5.0|           Hamburger|           24.0| 0.9519792|\n",
      "+-------+------+------+--------+--------------------+---------------+----------+\n",
      "only showing top 20 rows\n",
      "\n"
     ]
    }
   ],
   "source": [
    "recommendations = als_model.transform(test)\n",
    "recommendations.show()"
   ]
  },
  {
   "cell_type": "code",
   "execution_count": 59,
   "metadata": {},
   "outputs": [
    {
     "name": "stdout",
     "output_type": "stream",
     "text": [
      "RMSE of ALS recommendation model: 1.1470106210145947\n"
     ]
    }
   ],
   "source": [
    "evaluator = RegressionEvaluator(labelCol='rating')\n",
    "rmse = evaluator.evaluate(recommendations)\n",
    "print(\"RMSE of ALS recommendation model:\", rmse)"
   ]
  },
  {
   "cell_type": "code",
   "execution_count": 61,
   "metadata": {},
   "outputs": [
    {
     "name": "stdout",
     "output_type": "stream",
     "text": [
      "+-------+------+------+--------+--------------------+---------------+----------+\n",
      "|movieId|rating|userId|mealskew|           meal_name|meal_name_index|prediction|\n",
      "+-------+------+------+--------+--------------------+---------------+----------+\n",
      "|     18|   3.0|    26|    18.0|     Pepperoni Pizza|           16.0| 3.6457257|\n",
      "|     29|   4.0|     7|    29.0|        Pork Sliders|            0.0| 3.3155763|\n",
      "|     23|   4.0|    23|    23.0|      Orange Chicken|           15.0| 3.3064756|\n",
      "|     30|   4.0|    23|    30.0| Vietnamese Sandwich|           22.0| 3.1595979|\n",
      "|      2|   2.0|     7|     2.0|       Chicken Curry|            4.0| 3.1249466|\n",
      "|     29|   1.0|    28|    29.0|        Pork Sliders|            0.0| 2.8809025|\n",
      "|     18|   4.0|     3|    18.0|     Pepperoni Pizza|           16.0| 2.7740045|\n",
      "|     19|   4.0|    11|    19.0|Cheesesteak Sandw...|            7.0| 2.7025313|\n",
      "|     18|   4.0|    27|    18.0|     Pepperoni Pizza|           16.0|  2.696047|\n",
      "|     18|   1.0|     8|    18.0|     Pepperoni Pizza|           16.0| 2.4603443|\n",
      "|     25|   1.0|     9|    25.0| Roast Beef Sandwich|           20.0|  2.370761|\n",
      "|     27|   1.0|     5|    27.0|Salmon with Mashe...|           18.0| 2.3543606|\n",
      "|      2|   4.0|    10|     2.0|       Chicken Curry|            4.0| 2.3330684|\n",
      "|     30|   5.0|    22|    30.0| Vietnamese Sandwich|           22.0| 2.3131099|\n",
      "|     18|   1.0|    10|    18.0|     Pepperoni Pizza|           16.0| 2.2709136|\n",
      "|     27|   5.0|    23|    27.0|Salmon with Mashe...|           18.0| 2.2667968|\n",
      "|     18|   4.0|    23|    18.0|     Pepperoni Pizza|           16.0| 2.2344599|\n",
      "|     29|   2.0|    20|    29.0|        Pork Sliders|            0.0| 2.2204301|\n",
      "|     12|   3.0|     2|    12.0|        Ceaser Salad|            6.0|  2.180632|\n",
      "|     22|   1.0|    11|    22.0|   Pulled Pork Plate|            1.0| 2.1323524|\n",
      "+-------+------+------+--------+--------------------+---------------+----------+\n",
      "only showing top 20 rows\n",
      "\n"
     ]
    }
   ],
   "source": [
    "recommendations.orderBy('prediction',ascending=False).show()"
   ]
  },
  {
   "cell_type": "code",
   "execution_count": 62,
   "metadata": {},
   "outputs": [
    {
     "name": "stdout",
     "output_type": "stream",
     "text": [
      "+---------------+------+\n",
      "|meal_name_index|userId|\n",
      "+---------------+------+\n",
      "|           26.0|    22|\n",
      "|           13.0|    22|\n",
      "|            5.0|    22|\n",
      "|            7.0|    22|\n",
      "|            1.0|    22|\n",
      "|           22.0|    22|\n",
      "+---------------+------+\n",
      "\n"
     ]
    }
   ],
   "source": [
    "single_user = test.filter(test['userId'] == 22).select('meal_name_index','userId')\n",
    "single_user.show()"
   ]
  },
  {
   "cell_type": "code",
   "execution_count": 64,
   "metadata": {},
   "outputs": [
    {
     "name": "stdout",
     "output_type": "stream",
     "text": [
      "+---------------+------+----------+\n",
      "|meal_name_index|userId|prediction|\n",
      "+---------------+------+----------+\n",
      "|           26.0|    22| 0.8549367|\n",
      "|           22.0|    22| 2.3131099|\n",
      "|            1.0|    22| 1.5381551|\n",
      "|           13.0|    22|0.62651986|\n",
      "|            5.0|    22| 1.6579856|\n",
      "|            7.0|    22| 0.9563426|\n",
      "+---------------+------+----------+\n",
      "\n"
     ]
    }
   ],
   "source": [
    "recommendations = als_model.transform(single_user)\n",
    "recommendations.show()"
   ]
  },
  {
   "cell_type": "code",
   "execution_count": 65,
   "metadata": {},
   "outputs": [
    {
     "name": "stdout",
     "output_type": "stream",
     "text": [
      "+---------------+------+----------+\n",
      "|meal_name_index|userId|prediction|\n",
      "+---------------+------+----------+\n",
      "|           22.0|    22| 2.3131099|\n",
      "|            5.0|    22| 1.6579856|\n",
      "|            1.0|    22| 1.5381551|\n",
      "|            7.0|    22| 0.9563426|\n",
      "|           26.0|    22| 0.8549367|\n",
      "|           13.0|    22|0.62651986|\n",
      "+---------------+------+----------+\n",
      "\n"
     ]
    }
   ],
   "source": [
    "recommendations = recommendations.orderBy('prediction',ascending=False)\n",
    "recommendations.show()"
   ]
  },
  {
   "cell_type": "code",
   "execution_count": 83,
   "metadata": {},
   "outputs": [
    {
     "name": "stdout",
     "output_type": "stream",
     "text": [
      "+---------------+\n",
      "|meal_name_index|\n",
      "+---------------+\n",
      "|           22.0|\n",
      "|            5.0|\n",
      "|            1.0|\n",
      "|            7.0|\n",
      "|           26.0|\n",
      "|           13.0|\n",
      "+---------------+\n",
      "\n"
     ]
    }
   ],
   "source": [
    "results = recommendations.select('meal_name_index')\n",
    "results.show()"
   ]
  },
  {
   "cell_type": "code",
   "execution_count": 81,
   "metadata": {},
   "outputs": [
    {
     "name": "stdout",
     "output_type": "stream",
     "text": [
      "+---------------+--------------------+\n",
      "|meal_name_index|           meal_name|\n",
      "+---------------+--------------------+\n",
      "|           22.0| Vietnamese Sandwich|\n",
      "|            5.0|    Kung Pao Chicken|\n",
      "|            1.0|   Pulled Pork Plate|\n",
      "|            7.0|Cheesesteak Sandw...|\n",
      "|           26.0|Spicy Chicken Nug...|\n",
      "|           13.0|       Taco Surprise|\n",
      "+---------------+--------------------+\n",
      "\n"
     ]
    }
   ],
   "source": [
    "index_to_string = IndexToString(inputCol='meal_name_index',outputCol='meal_name',labels=indexer_model.labels)\n",
    "index_to_string.transform(recommendations.select('meal_name_index')).show()"
   ]
  },
  {
   "cell_type": "code",
   "execution_count": 84,
   "metadata": {},
   "outputs": [],
   "source": [
    "def recommend_meals(test_user_ratings):\n",
    "    recommendations = als_model.transform(test_user_ratings)\n",
    "    recommendations = recommendations.orderBy('prediction',ascending=False)\n",
    "    results = index_to_string.transform(recommendations.select('meal_name_index')).select('meal_name').toPandas().values\n",
    "    results = [x[0] for x in results]\n",
    "    return results"
   ]
  },
  {
   "cell_type": "code",
   "execution_count": 86,
   "metadata": {},
   "outputs": [
    {
     "data": {
      "text/plain": [
       "['Roast Beef Sandwich',\n",
       " 'Taco Surprise',\n",
       " 'Spicy Beef Plate',\n",
       " 'Hamburger',\n",
       " 'Pulled Pork Plate',\n",
       " 'Nachos',\n",
       " 'Lasagna',\n",
       " 'Cheesesteak Sandwhich',\n",
       " 'Chili']"
      ]
     },
     "execution_count": 86,
     "metadata": {},
     "output_type": "execute_result"
    }
   ],
   "source": [
    "recommended_meals = recommend_meals(test.filter(test['userId'] == 9).select(['meal_name_index','userId']))\n",
    "recommended_meals"
   ]
  },
  {
   "cell_type": "code",
   "execution_count": 87,
   "metadata": {},
   "outputs": [
    {
     "data": {
      "text/plain": [
       "['Nachos', 'Spicy Pork Sliders', 'Pork Sliders']"
      ]
     },
     "execution_count": 87,
     "metadata": {},
     "output_type": "execute_result"
    }
   ],
   "source": [
    "recommended_meals = recommend_meals(test.filter(test['userId'] == 16).select(['meal_name_index','userId']))\n",
    "recommended_meals"
   ]
  },
  {
   "cell_type": "code",
   "execution_count": 88,
   "metadata": {},
   "outputs": [
    {
     "data": {
      "text/plain": [
       "['Pepperoni Pizza', 'Pork Sliders']"
      ]
     },
     "execution_count": 88,
     "metadata": {},
     "output_type": "execute_result"
    }
   ],
   "source": [
    "recommended_meals = recommend_meals(test.filter(test['userId'] == 27).select(['meal_name_index','userId']))\n",
    "recommended_meals"
   ]
  },
  {
   "cell_type": "code",
   "execution_count": 89,
   "metadata": {},
   "outputs": [
    {
     "data": {
      "text/plain": [
       "['Chicken Wrap', 'Spicy Pork Sliders', 'Ceaser Salad']"
      ]
     },
     "execution_count": 89,
     "metadata": {},
     "output_type": "execute_result"
    }
   ],
   "source": [
    "recommended_meals = recommend_meals(test.filter(test['userId'] == 24).select(['meal_name_index','userId']))\n",
    "recommended_meals"
   ]
  }
 ],
 "metadata": {
  "anaconda-cloud": {},
  "kernelspec": {
   "display_name": "Python 3 (ipykernel)",
   "language": "python",
   "name": "python3"
  },
  "language_info": {
   "codemirror_mode": {
    "name": "ipython",
    "version": 3
   },
   "file_extension": ".py",
   "mimetype": "text/x-python",
   "name": "python",
   "nbconvert_exporter": "python",
   "pygments_lexer": "ipython3",
   "version": "3.11.5"
  }
 },
 "nbformat": 4,
 "nbformat_minor": 1
}
