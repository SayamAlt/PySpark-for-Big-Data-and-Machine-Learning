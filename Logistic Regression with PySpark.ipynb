{
 "cells": [
  {
   "cell_type": "code",
   "execution_count": 43,
   "id": "43de0236",
   "metadata": {},
   "outputs": [],
   "source": [
    "from pyspark.sql import SparkSession\n",
    "from pyspark.ml.classification import LogisticRegression\n",
    "from pyspark.ml.evaluation import BinaryClassificationEvaluator, MulticlassClassificationEvaluator"
   ]
  },
  {
   "cell_type": "code",
   "execution_count": 2,
   "id": "74d4f204",
   "metadata": {},
   "outputs": [
    {
     "data": {
      "text/html": [
       "\n",
       "            <div>\n",
       "                <p><b>SparkSession - in-memory</b></p>\n",
       "                \n",
       "        <div>\n",
       "            <p><b>SparkContext</b></p>\n",
       "\n",
       "            <p><a href=\"http://DESKTOP-BJS1Q67:4042\">Spark UI</a></p>\n",
       "\n",
       "            <dl>\n",
       "              <dt>Version</dt>\n",
       "                <dd><code>v3.5.0</code></dd>\n",
       "              <dt>Master</dt>\n",
       "                <dd><code>local[*]</code></dd>\n",
       "              <dt>AppName</dt>\n",
       "                <dd><code>log_reg</code></dd>\n",
       "            </dl>\n",
       "        </div>\n",
       "        \n",
       "            </div>\n",
       "        "
      ],
      "text/plain": [
       "<pyspark.sql.session.SparkSession at 0x15e3da4bb90>"
      ]
     },
     "execution_count": 2,
     "metadata": {},
     "output_type": "execute_result"
    }
   ],
   "source": [
    "spark = SparkSession.builder.appName('log_reg').getOrCreate()\n",
    "spark"
   ]
  },
  {
   "cell_type": "code",
   "execution_count": 3,
   "id": "55765893",
   "metadata": {},
   "outputs": [
    {
     "name": "stdout",
     "output_type": "stream",
     "text": [
      "+-----+--------------------+\n",
      "|label|            features|\n",
      "+-----+--------------------+\n",
      "|  0.0|(692,[127,128,129...|\n",
      "|  1.0|(692,[158,159,160...|\n",
      "|  1.0|(692,[124,125,126...|\n",
      "|  1.0|(692,[152,153,154...|\n",
      "|  1.0|(692,[151,152,153...|\n",
      "|  0.0|(692,[129,130,131...|\n",
      "|  1.0|(692,[158,159,160...|\n",
      "|  1.0|(692,[99,100,101,...|\n",
      "|  0.0|(692,[154,155,156...|\n",
      "|  0.0|(692,[127,128,129...|\n",
      "|  1.0|(692,[154,155,156...|\n",
      "|  0.0|(692,[153,154,155...|\n",
      "|  0.0|(692,[151,152,153...|\n",
      "|  1.0|(692,[129,130,131...|\n",
      "|  0.0|(692,[154,155,156...|\n",
      "|  1.0|(692,[150,151,152...|\n",
      "|  0.0|(692,[124,125,126...|\n",
      "|  0.0|(692,[152,153,154...|\n",
      "|  1.0|(692,[97,98,99,12...|\n",
      "|  1.0|(692,[124,125,126...|\n",
      "+-----+--------------------+\n",
      "only showing top 20 rows\n",
      "\n"
     ]
    }
   ],
   "source": [
    "df = spark.read.format('libsvm').load('sample_libsvm_data.txt')\n",
    "df.show()"
   ]
  },
  {
   "cell_type": "code",
   "execution_count": 4,
   "id": "230eef44",
   "metadata": {},
   "outputs": [
    {
     "data": {
      "text/plain": [
       "100"
      ]
     },
     "execution_count": 4,
     "metadata": {},
     "output_type": "execute_result"
    }
   ],
   "source": [
    "df.count()"
   ]
  },
  {
   "cell_type": "code",
   "execution_count": 5,
   "id": "86f91305",
   "metadata": {},
   "outputs": [
    {
     "name": "stdout",
     "output_type": "stream",
     "text": [
      "root\n",
      " |-- label: double (nullable = true)\n",
      " |-- features: vector (nullable = true)\n",
      "\n"
     ]
    }
   ],
   "source": [
    "df.printSchema()"
   ]
  },
  {
   "cell_type": "code",
   "execution_count": 6,
   "id": "2eff723d",
   "metadata": {},
   "outputs": [],
   "source": [
    "lr = LogisticRegression()\n",
    "lr_model = lr.fit(df)"
   ]
  },
  {
   "cell_type": "code",
   "execution_count": 11,
   "id": "bb8ac4fc",
   "metadata": {},
   "outputs": [
    {
     "data": {
      "text/plain": [
       "<pyspark.ml.classification.BinaryLogisticRegressionTrainingSummary at 0x15e2e378410>"
      ]
     },
     "execution_count": 11,
     "metadata": {},
     "output_type": "execute_result"
    }
   ],
   "source": [
    "results = lr_model.summary\n",
    "results"
   ]
  },
  {
   "cell_type": "code",
   "execution_count": 12,
   "id": "5d68bcc7",
   "metadata": {},
   "outputs": [
    {
     "data": {
      "text/plain": [
       "1.0"
      ]
     },
     "execution_count": 12,
     "metadata": {},
     "output_type": "execute_result"
    }
   ],
   "source": [
    "results.accuracy"
   ]
  },
  {
   "cell_type": "code",
   "execution_count": 13,
   "id": "d1e15756",
   "metadata": {},
   "outputs": [
    {
     "data": {
      "text/plain": [
       "1.0"
      ]
     },
     "execution_count": 13,
     "metadata": {},
     "output_type": "execute_result"
    }
   ],
   "source": [
    "results.areaUnderROC"
   ]
  },
  {
   "cell_type": "code",
   "execution_count": 14,
   "id": "a3a1b276",
   "metadata": {},
   "outputs": [
    {
     "data": {
      "text/plain": [
       "[0.0, 0.0]"
      ]
     },
     "execution_count": 14,
     "metadata": {},
     "output_type": "execute_result"
    }
   ],
   "source": [
    "results.falsePositiveRateByLabel"
   ]
  },
  {
   "cell_type": "code",
   "execution_count": 16,
   "id": "32ceefdd",
   "metadata": {},
   "outputs": [
    {
     "data": {
      "text/plain": [
       "[1.0, 1.0]"
      ]
     },
     "execution_count": 16,
     "metadata": {},
     "output_type": "execute_result"
    }
   ],
   "source": [
    "results.fMeasureByLabel()"
   ]
  },
  {
   "cell_type": "code",
   "execution_count": 17,
   "id": "51422020",
   "metadata": {},
   "outputs": [
    {
     "data": {
      "text/plain": [
       "[1.0, 1.0]"
      ]
     },
     "execution_count": 17,
     "metadata": {},
     "output_type": "execute_result"
    }
   ],
   "source": [
    "results.precisionByLabel"
   ]
  },
  {
   "cell_type": "code",
   "execution_count": 20,
   "id": "d304ee0e",
   "metadata": {},
   "outputs": [
    {
     "name": "stdout",
     "output_type": "stream",
     "text": [
      "+--------------------+---------+\n",
      "|              recall|precision|\n",
      "+--------------------+---------+\n",
      "|                 0.0|      1.0|\n",
      "|0.017543859649122806|      1.0|\n",
      "| 0.03508771929824561|      1.0|\n",
      "| 0.05263157894736842|      1.0|\n",
      "| 0.07017543859649122|      1.0|\n",
      "| 0.08771929824561403|      1.0|\n",
      "| 0.10526315789473684|      1.0|\n",
      "| 0.12280701754385964|      1.0|\n",
      "| 0.14035087719298245|      1.0|\n",
      "| 0.15789473684210525|      1.0|\n",
      "| 0.17543859649122806|      1.0|\n",
      "| 0.19298245614035087|      1.0|\n",
      "| 0.21052631578947367|      1.0|\n",
      "| 0.22807017543859648|      1.0|\n",
      "| 0.24561403508771928|      1.0|\n",
      "|  0.2631578947368421|      1.0|\n",
      "|  0.2807017543859649|      1.0|\n",
      "|  0.2982456140350877|      1.0|\n",
      "|  0.3157894736842105|      1.0|\n",
      "|  0.3333333333333333|      1.0|\n",
      "+--------------------+---------+\n",
      "only showing top 20 rows\n",
      "\n"
     ]
    }
   ],
   "source": [
    "results.pr.show()"
   ]
  },
  {
   "cell_type": "code",
   "execution_count": 21,
   "id": "cd2f3de2",
   "metadata": {},
   "outputs": [
    {
     "data": {
      "text/plain": [
       "[0.6833149135741672,\n",
       " 0.013093751340219117,\n",
       " 0.010701411598307597,\n",
       " 0.003694038375993421,\n",
       " 0.0021399761338157177,\n",
       " 0.0011363374603547136,\n",
       " 0.0006407228823852692,\n",
       " 0.00036705428551573704,\n",
       " 0.0002260026422054868,\n",
       " 0.00015094375366593175,\n",
       " 0.0001071063166363229,\n",
       " 7.553627222762171e-05,\n",
       " 2.580774200701701e-05,\n",
       " 1.4067994122146346e-05,\n",
       " 7.617742760820017e-06,\n",
       " 3.870751420627088e-06,\n",
       " 1.9854616143530575e-06,\n",
       " 1.0073600214465829e-06,\n",
       " 5.106945419720955e-07,\n",
       " 2.5790151660584507e-07,\n",
       " 1.3000317763446567e-07,\n",
       " 6.541799796737615e-08,\n",
       " 3.288742060702569e-08,\n",
       " 1.6455075322246003e-08,\n",
       " 8.237108339716514e-09,\n",
       " 4.121711294758356e-09,\n",
       " 2.0624916722421435e-09,\n",
       " 1.0319596771097586e-09]"
      ]
     },
     "execution_count": 21,
     "metadata": {},
     "output_type": "execute_result"
    }
   ],
   "source": [
    "results.objectiveHistory"
   ]
  },
  {
   "cell_type": "code",
   "execution_count": 24,
   "id": "c8329d4c",
   "metadata": {},
   "outputs": [
    {
     "name": "stdout",
     "output_type": "stream",
     "text": [
      "+---+--------------------+\n",
      "|FPR|                 TPR|\n",
      "+---+--------------------+\n",
      "|0.0|                 0.0|\n",
      "|0.0|0.017543859649122806|\n",
      "|0.0| 0.03508771929824561|\n",
      "|0.0| 0.05263157894736842|\n",
      "|0.0| 0.07017543859649122|\n",
      "|0.0| 0.08771929824561403|\n",
      "|0.0| 0.10526315789473684|\n",
      "|0.0| 0.12280701754385964|\n",
      "|0.0| 0.14035087719298245|\n",
      "|0.0| 0.15789473684210525|\n",
      "|0.0| 0.17543859649122806|\n",
      "|0.0| 0.19298245614035087|\n",
      "|0.0| 0.21052631578947367|\n",
      "|0.0| 0.22807017543859648|\n",
      "|0.0| 0.24561403508771928|\n",
      "|0.0|  0.2631578947368421|\n",
      "|0.0|  0.2807017543859649|\n",
      "|0.0|  0.2982456140350877|\n",
      "|0.0|  0.3157894736842105|\n",
      "|0.0|  0.3333333333333333|\n",
      "+---+--------------------+\n",
      "only showing top 20 rows\n",
      "\n"
     ]
    }
   ],
   "source": [
    "results.roc.show()"
   ]
  },
  {
   "cell_type": "code",
   "execution_count": 25,
   "id": "1153763f",
   "metadata": {},
   "outputs": [
    {
     "data": {
      "text/plain": [
       "1.0"
      ]
     },
     "execution_count": 25,
     "metadata": {},
     "output_type": "execute_result"
    }
   ],
   "source": [
    "results.weightedPrecision"
   ]
  },
  {
   "cell_type": "code",
   "execution_count": 26,
   "id": "df3e7bf1",
   "metadata": {},
   "outputs": [
    {
     "data": {
      "text/plain": [
       "1.0"
      ]
     },
     "execution_count": 26,
     "metadata": {},
     "output_type": "execute_result"
    }
   ],
   "source": [
    "results.weightedRecall"
   ]
  },
  {
   "cell_type": "code",
   "execution_count": 28,
   "id": "277d4635",
   "metadata": {},
   "outputs": [
    {
     "data": {
      "text/plain": [
       "1.0"
      ]
     },
     "execution_count": 28,
     "metadata": {},
     "output_type": "execute_result"
    }
   ],
   "source": [
    "results.weightedFMeasure()"
   ]
  },
  {
   "cell_type": "code",
   "execution_count": 22,
   "id": "1231099a",
   "metadata": {},
   "outputs": [
    {
     "name": "stdout",
     "output_type": "stream",
     "text": [
      "+-----+--------------------+--------------------+--------------------+----------+\n",
      "|label|            features|       rawPrediction|         probability|prediction|\n",
      "+-----+--------------------+--------------------+--------------------+----------+\n",
      "|  0.0|(692,[127,128,129...|[20.3777627514872...|[0.99999999858729...|       0.0|\n",
      "|  1.0|(692,[158,159,160...|[-21.114014198868...|[6.76550380000472...|       1.0|\n",
      "|  1.0|(692,[124,125,126...|[-23.743613234676...|[4.87842678716177...|       1.0|\n",
      "|  1.0|(692,[152,153,154...|[-19.192574012720...|[4.62137287298144...|       1.0|\n",
      "|  1.0|(692,[151,152,153...|[-20.125398874699...|[1.81823629113068...|       1.0|\n",
      "|  0.0|(692,[129,130,131...|[20.4890549504196...|[0.99999999873608...|       0.0|\n",
      "|  1.0|(692,[158,159,160...|[-21.082940212814...|[6.97903542823766...|       1.0|\n",
      "|  1.0|(692,[99,100,101,...|[-19.622713503550...|[3.00582577446132...|       1.0|\n",
      "|  0.0|(692,[154,155,156...|[21.1594863606582...|[0.99999999935352...|       0.0|\n",
      "|  0.0|(692,[127,128,129...|[28.1036706837287...|[0.99999999999937...|       0.0|\n",
      "|  1.0|(692,[154,155,156...|[-21.054076780106...|[7.18340962960324...|       1.0|\n",
      "|  0.0|(692,[153,154,155...|[26.9648490510184...|[0.99999999999805...|       0.0|\n",
      "|  0.0|(692,[151,152,153...|[32.7855654161400...|[0.99999999999999...|       0.0|\n",
      "|  1.0|(692,[129,130,131...|[-20.331839179667...|[1.47908944089721...|       1.0|\n",
      "|  0.0|(692,[154,155,156...|[21.7830579106564...|[0.99999999965347...|       0.0|\n",
      "|  1.0|(692,[150,151,152...|[-20.640562103728...|[1.08621994880353...|       1.0|\n",
      "|  0.0|(692,[124,125,126...|[22.6400775503731...|[0.99999999985292...|       0.0|\n",
      "|  0.0|(692,[152,153,154...|[38.0712919910909...|           [1.0,0.0]|       0.0|\n",
      "|  1.0|(692,[97,98,99,12...|[-19.830803265627...|[2.44113371545874...|       1.0|\n",
      "|  1.0|(692,[124,125,126...|[-21.016054806036...|[7.46179590484091...|       1.0|\n",
      "+-----+--------------------+--------------------+--------------------+----------+\n",
      "only showing top 20 rows\n",
      "\n"
     ]
    }
   ],
   "source": [
    "results.predictions.show()"
   ]
  },
  {
   "cell_type": "code",
   "execution_count": 29,
   "id": "2f56cf74",
   "metadata": {},
   "outputs": [
    {
     "name": "stdout",
     "output_type": "stream",
     "text": [
      "+-----+--------------------+\n",
      "|label|            features|\n",
      "+-----+--------------------+\n",
      "|  0.0|(692,[95,96,97,12...|\n",
      "|  0.0|(692,[100,101,102...|\n",
      "|  0.0|(692,[121,122,123...|\n",
      "|  0.0|(692,[122,123,124...|\n",
      "|  0.0|(692,[122,123,148...|\n",
      "|  0.0|(692,[123,124,125...|\n",
      "|  0.0|(692,[124,125,126...|\n",
      "|  0.0|(692,[124,125,126...|\n",
      "|  0.0|(692,[124,125,126...|\n",
      "|  0.0|(692,[124,125,126...|\n",
      "|  0.0|(692,[124,125,126...|\n",
      "|  0.0|(692,[124,125,126...|\n",
      "|  0.0|(692,[125,126,127...|\n",
      "|  0.0|(692,[126,127,128...|\n",
      "|  0.0|(692,[126,127,128...|\n",
      "|  0.0|(692,[126,127,128...|\n",
      "|  0.0|(692,[126,127,128...|\n",
      "|  0.0|(692,[126,127,128...|\n",
      "|  0.0|(692,[126,127,128...|\n",
      "|  0.0|(692,[126,127,128...|\n",
      "+-----+--------------------+\n",
      "only showing top 20 rows\n",
      "\n"
     ]
    }
   ],
   "source": [
    "train_df, test_df = df.randomSplit([0.7,0.3])\n",
    "train_df.show()"
   ]
  },
  {
   "cell_type": "code",
   "execution_count": 30,
   "id": "040685e5",
   "metadata": {},
   "outputs": [
    {
     "name": "stdout",
     "output_type": "stream",
     "text": [
      "+-----+--------------------+\n",
      "|label|            features|\n",
      "+-----+--------------------+\n",
      "|  0.0|(692,[98,99,100,1...|\n",
      "|  0.0|(692,[123,124,125...|\n",
      "|  0.0|(692,[123,124,125...|\n",
      "|  0.0|(692,[126,127,128...|\n",
      "|  0.0|(692,[152,153,154...|\n",
      "|  0.0|(692,[154,155,156...|\n",
      "|  0.0|(692,[154,155,156...|\n",
      "|  0.0|(692,[234,235,237...|\n",
      "|  1.0|(692,[99,100,101,...|\n",
      "|  1.0|(692,[124,125,126...|\n",
      "|  1.0|(692,[125,126,127...|\n",
      "|  1.0|(692,[125,126,153...|\n",
      "|  1.0|(692,[127,128,129...|\n",
      "|  1.0|(692,[127,128,155...|\n",
      "|  1.0|(692,[128,129,130...|\n",
      "|  1.0|(692,[128,129,130...|\n",
      "|  1.0|(692,[128,129,130...|\n",
      "|  1.0|(692,[129,130,131...|\n",
      "|  1.0|(692,[150,151,152...|\n",
      "|  1.0|(692,[151,152,153...|\n",
      "+-----+--------------------+\n",
      "only showing top 20 rows\n",
      "\n"
     ]
    }
   ],
   "source": [
    "test_df.show()"
   ]
  },
  {
   "cell_type": "code",
   "execution_count": 31,
   "id": "554748dd",
   "metadata": {},
   "outputs": [
    {
     "name": "stdout",
     "output_type": "stream",
     "text": [
      "+-------+------------------+\n",
      "|summary|             label|\n",
      "+-------+------------------+\n",
      "|  count|                79|\n",
      "|   mean|0.5569620253164557|\n",
      "| stddev|0.4999188509286224|\n",
      "|    min|               0.0|\n",
      "|    max|               1.0|\n",
      "+-------+------------------+\n",
      "\n"
     ]
    }
   ],
   "source": [
    "train_df.describe().show()"
   ]
  },
  {
   "cell_type": "code",
   "execution_count": 32,
   "id": "6b9a3d35",
   "metadata": {},
   "outputs": [
    {
     "name": "stdout",
     "output_type": "stream",
     "text": [
      "+-------+-------------------+\n",
      "|summary|              label|\n",
      "+-------+-------------------+\n",
      "|  count|                 21|\n",
      "|   mean| 0.6190476190476191|\n",
      "| stddev|0.49761335152811925|\n",
      "|    min|                0.0|\n",
      "|    max|                1.0|\n",
      "+-------+-------------------+\n",
      "\n"
     ]
    }
   ],
   "source": [
    "test_df.describe().show()"
   ]
  },
  {
   "cell_type": "code",
   "execution_count": 33,
   "id": "31e1a738",
   "metadata": {},
   "outputs": [
    {
     "data": {
      "text/plain": [
       "<pyspark.ml.classification.BinaryLogisticRegressionTrainingSummary at 0x15e4020e690>"
      ]
     },
     "execution_count": 33,
     "metadata": {},
     "output_type": "execute_result"
    }
   ],
   "source": [
    "lr = LogisticRegression()\n",
    "lr_model = lr.fit(train_df)\n",
    "lr_model.summary"
   ]
  },
  {
   "cell_type": "code",
   "execution_count": 34,
   "id": "e8196263",
   "metadata": {},
   "outputs": [
    {
     "data": {
      "text/plain": [
       "<pyspark.ml.classification.BinaryLogisticRegressionSummary at 0x15e40239590>"
      ]
     },
     "execution_count": 34,
     "metadata": {},
     "output_type": "execute_result"
    }
   ],
   "source": [
    "test_results = lr_model.evaluate(test_df)\n",
    "test_results"
   ]
  },
  {
   "cell_type": "code",
   "execution_count": 35,
   "id": "1eddbaf7",
   "metadata": {},
   "outputs": [
    {
     "data": {
      "text/plain": [
       "1.0"
      ]
     },
     "execution_count": 35,
     "metadata": {},
     "output_type": "execute_result"
    }
   ],
   "source": [
    "test_results.accuracy"
   ]
  },
  {
   "cell_type": "code",
   "execution_count": 37,
   "id": "fc956eea",
   "metadata": {},
   "outputs": [
    {
     "name": "stdout",
     "output_type": "stream",
     "text": [
      "+-----+-------------------+\n",
      "|  FPR|                TPR|\n",
      "+-----+-------------------+\n",
      "|  0.0|                0.0|\n",
      "|  0.0|0.07692307692307693|\n",
      "|  0.0|0.15384615384615385|\n",
      "|  0.0|0.23076923076923078|\n",
      "|  0.0| 0.3076923076923077|\n",
      "|  0.0|0.38461538461538464|\n",
      "|  0.0|0.46153846153846156|\n",
      "|  0.0| 0.5384615384615384|\n",
      "|  0.0| 0.6153846153846154|\n",
      "|  0.0| 0.6923076923076923|\n",
      "|  0.0| 0.7692307692307693|\n",
      "|  0.0| 0.8461538461538461|\n",
      "|  0.0| 0.9230769230769231|\n",
      "|  0.0|                1.0|\n",
      "|0.125|                1.0|\n",
      "| 0.25|                1.0|\n",
      "|0.375|                1.0|\n",
      "|  0.5|                1.0|\n",
      "|0.625|                1.0|\n",
      "| 0.75|                1.0|\n",
      "+-----+-------------------+\n",
      "only showing top 20 rows\n",
      "\n"
     ]
    }
   ],
   "source": [
    "test_results.roc.show()"
   ]
  },
  {
   "cell_type": "code",
   "execution_count": 38,
   "id": "3955650a",
   "metadata": {},
   "outputs": [
    {
     "name": "stdout",
     "output_type": "stream",
     "text": [
      "+-------------------+------------------+\n",
      "|             recall|         precision|\n",
      "+-------------------+------------------+\n",
      "|                0.0|               1.0|\n",
      "|0.07692307692307693|               1.0|\n",
      "|0.15384615384615385|               1.0|\n",
      "|0.23076923076923078|               1.0|\n",
      "| 0.3076923076923077|               1.0|\n",
      "|0.38461538461538464|               1.0|\n",
      "|0.46153846153846156|               1.0|\n",
      "| 0.5384615384615384|               1.0|\n",
      "| 0.6153846153846154|               1.0|\n",
      "| 0.6923076923076923|               1.0|\n",
      "| 0.7692307692307693|               1.0|\n",
      "| 0.8461538461538461|               1.0|\n",
      "| 0.9230769230769231|               1.0|\n",
      "|                1.0|               1.0|\n",
      "|                1.0|0.9285714285714286|\n",
      "|                1.0|0.8666666666666667|\n",
      "|                1.0|            0.8125|\n",
      "|                1.0|0.7647058823529411|\n",
      "|                1.0|0.7222222222222222|\n",
      "|                1.0|0.6842105263157895|\n",
      "+-------------------+------------------+\n",
      "only showing top 20 rows\n",
      "\n"
     ]
    }
   ],
   "source": [
    "test_results.pr.show()"
   ]
  },
  {
   "cell_type": "code",
   "execution_count": 39,
   "id": "1275ccbf",
   "metadata": {},
   "outputs": [
    {
     "data": {
      "text/plain": [
       "1.0"
      ]
     },
     "execution_count": 39,
     "metadata": {},
     "output_type": "execute_result"
    }
   ],
   "source": [
    "test_results.areaUnderROC"
   ]
  },
  {
   "cell_type": "code",
   "execution_count": 41,
   "id": "d4299ea4",
   "metadata": {},
   "outputs": [
    {
     "data": {
      "text/plain": [
       "[1.0, 1.0]"
      ]
     },
     "execution_count": 41,
     "metadata": {},
     "output_type": "execute_result"
    }
   ],
   "source": [
    "test_results.fMeasureByLabel()"
   ]
  },
  {
   "cell_type": "code",
   "execution_count": 42,
   "id": "57cb6a7d",
   "metadata": {},
   "outputs": [
    {
     "name": "stdout",
     "output_type": "stream",
     "text": [
      "+-----+--------------------+--------------------+--------------------+----------+\n",
      "|label|            features|       rawPrediction|         probability|prediction|\n",
      "+-----+--------------------+--------------------+--------------------+----------+\n",
      "|  0.0|(692,[98,99,100,1...|[32.2163396254175...|[0.99999999999998...|       0.0|\n",
      "|  0.0|(692,[123,124,125...|[36.4345001296687...|[0.99999999999999...|       0.0|\n",
      "|  0.0|(692,[123,124,125...|[35.8280567859877...|[0.99999999999999...|       0.0|\n",
      "|  0.0|(692,[126,127,128...|[24.9725866590964...|[0.99999999998572...|       0.0|\n",
      "|  0.0|(692,[152,153,154...|[11.4143807763787...|[0.99998896448458...|       0.0|\n",
      "|  0.0|(692,[154,155,156...|[14.2324152110700...|[0.99999934091667...|       0.0|\n",
      "|  0.0|(692,[154,155,156...|[19.3791935971361...|[0.99999999616537...|       0.0|\n",
      "|  0.0|(692,[234,235,237...|[0.99563574687644...|[0.73019964960712...|       0.0|\n",
      "|  1.0|(692,[99,100,101,...|[-2.3808212504864...|[0.08464691204540...|       1.0|\n",
      "|  1.0|(692,[124,125,126...|[-22.307875488984...|[2.05027809644320...|       1.0|\n",
      "|  1.0|(692,[125,126,127...|[-19.618063665992...|[3.01983492088538...|       1.0|\n",
      "|  1.0|(692,[125,126,153...|[-21.333659983574...|[5.43136751066293...|       1.0|\n",
      "|  1.0|(692,[127,128,129...|[-22.711323387425...|[1.36961207440971...|       1.0|\n",
      "|  1.0|(692,[127,128,155...|[-22.015354009779...|[2.74696569780160...|       1.0|\n",
      "|  1.0|(692,[128,129,130...|[-22.455200927398...|[1.76941680282852...|       1.0|\n",
      "|  1.0|(692,[128,129,130...|[-21.855972871418...|[3.22159976690122...|       1.0|\n",
      "|  1.0|(692,[128,129,130...|[-20.791973331191...|[9.33599722562929...|       1.0|\n",
      "|  1.0|(692,[129,130,131...|[-21.826068400765...|[3.31939497157224...|       1.0|\n",
      "|  1.0|(692,[150,151,152...|[-21.927255403824...|[2.99994971186381...|       1.0|\n",
      "|  1.0|(692,[151,152,153...|[-20.646639584473...|[1.07963848759599...|       1.0|\n",
      "+-----+--------------------+--------------------+--------------------+----------+\n",
      "only showing top 20 rows\n",
      "\n"
     ]
    }
   ],
   "source": [
    "test_results.predictions.show()"
   ]
  },
  {
   "cell_type": "code",
   "execution_count": 44,
   "id": "876d797b",
   "metadata": {},
   "outputs": [
    {
     "data": {
      "text/plain": [
       "1.0"
      ]
     },
     "execution_count": 44,
     "metadata": {},
     "output_type": "execute_result"
    }
   ],
   "source": [
    "evaluator = BinaryClassificationEvaluator()\n",
    "area_under_roc = evaluator.evaluate(test_results.predictions)\n",
    "area_under_roc # Area under ROC curve"
   ]
  },
  {
   "cell_type": "code",
   "execution_count": 45,
   "id": "08ed876c",
   "metadata": {},
   "outputs": [
    {
     "data": {
      "text/plain": [
       "1.0"
      ]
     },
     "execution_count": 45,
     "metadata": {},
     "output_type": "execute_result"
    }
   ],
   "source": [
    "evaluator = BinaryClassificationEvaluator(metricName='areaUnderPR')\n",
    "area_under_pr = evaluator.evaluate(test_results.predictions)\n",
    "area_under_pr # Area under precision-recall curve"
   ]
  }
 ],
 "metadata": {
  "kernelspec": {
   "display_name": "Python 3 (ipykernel)",
   "language": "python",
   "name": "python3"
  },
  "language_info": {
   "codemirror_mode": {
    "name": "ipython",
    "version": 3
   },
   "file_extension": ".py",
   "mimetype": "text/x-python",
   "name": "python",
   "nbconvert_exporter": "python",
   "pygments_lexer": "ipython3",
   "version": "3.11.5"
  }
 },
 "nbformat": 4,
 "nbformat_minor": 5
}
