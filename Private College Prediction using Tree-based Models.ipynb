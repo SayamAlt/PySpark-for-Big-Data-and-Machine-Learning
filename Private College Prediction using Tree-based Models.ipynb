{
 "cells": [
  {
   "cell_type": "code",
   "execution_count": 58,
   "id": "d8cc1d3d",
   "metadata": {},
   "outputs": [],
   "source": [
    "from pyspark.sql import SparkSession\n",
    "from pyspark.ml.feature import VectorAssembler, StringIndexer\n",
    "from pyspark.ml.classification import DecisionTreeClassifier, RandomForestClassifier, GBTClassifier, FMClassifier, RandomForestClassificationModel\n",
    "from pyspark.ml.evaluation import BinaryClassificationEvaluator, MulticlassClassificationEvaluator\n",
    "from pyspark.sql.functions import count_distinct\n",
    "from pyspark.ml.tuning import CrossValidator, ParamGridBuilder"
   ]
  },
  {
   "cell_type": "code",
   "execution_count": 2,
   "id": "08072c16",
   "metadata": {},
   "outputs": [
    {
     "data": {
      "text/html": [
       "\n",
       "            <div>\n",
       "                <p><b>SparkSession - in-memory</b></p>\n",
       "                \n",
       "        <div>\n",
       "            <p><b>SparkContext</b></p>\n",
       "\n",
       "            <p><a href=\"http://DESKTOP-BJS1Q67:4040\">Spark UI</a></p>\n",
       "\n",
       "            <dl>\n",
       "              <dt>Version</dt>\n",
       "                <dd><code>v3.5.0</code></dd>\n",
       "              <dt>Master</dt>\n",
       "                <dd><code>local[*]</code></dd>\n",
       "              <dt>AppName</dt>\n",
       "                <dd><code>tree</code></dd>\n",
       "            </dl>\n",
       "        </div>\n",
       "        \n",
       "            </div>\n",
       "        "
      ],
      "text/plain": [
       "<pyspark.sql.session.SparkSession at 0x2727ff09390>"
      ]
     },
     "execution_count": 2,
     "metadata": {},
     "output_type": "execute_result"
    }
   ],
   "source": [
    "spark = SparkSession.builder.appName(\"tree\").getOrCreate()\n",
    "spark"
   ]
  },
  {
   "cell_type": "code",
   "execution_count": 3,
   "id": "350857a7",
   "metadata": {},
   "outputs": [
    {
     "name": "stdout",
     "output_type": "stream",
     "text": [
      "root\n",
      " |-- School: string (nullable = true)\n",
      " |-- Private: string (nullable = true)\n",
      " |-- Apps: integer (nullable = true)\n",
      " |-- Accept: integer (nullable = true)\n",
      " |-- Enroll: integer (nullable = true)\n",
      " |-- Top10perc: integer (nullable = true)\n",
      " |-- Top25perc: integer (nullable = true)\n",
      " |-- F_Undergrad: integer (nullable = true)\n",
      " |-- P_Undergrad: integer (nullable = true)\n",
      " |-- Outstate: integer (nullable = true)\n",
      " |-- Room_Board: integer (nullable = true)\n",
      " |-- Books: integer (nullable = true)\n",
      " |-- Personal: integer (nullable = true)\n",
      " |-- PhD: integer (nullable = true)\n",
      " |-- Terminal: integer (nullable = true)\n",
      " |-- S_F_Ratio: double (nullable = true)\n",
      " |-- perc_alumni: integer (nullable = true)\n",
      " |-- Expend: integer (nullable = true)\n",
      " |-- Grad_Rate: integer (nullable = true)\n",
      "\n"
     ]
    }
   ],
   "source": [
    "df = spark.read.csv('College.csv',inferSchema=True,header=True)\n",
    "df.printSchema()"
   ]
  },
  {
   "cell_type": "code",
   "execution_count": 4,
   "id": "ebec55d2",
   "metadata": {},
   "outputs": [
    {
     "data": {
      "text/plain": [
       "777"
      ]
     },
     "execution_count": 4,
     "metadata": {},
     "output_type": "execute_result"
    }
   ],
   "source": [
    "df.count()"
   ]
  },
  {
   "cell_type": "code",
   "execution_count": 5,
   "id": "229d5dba",
   "metadata": {},
   "outputs": [
    {
     "data": {
      "text/plain": [
       "Row(School='Abilene Christian University', Private='Yes', Apps=1660, Accept=1232, Enroll=721, Top10perc=23, Top25perc=52, F_Undergrad=2885, P_Undergrad=537, Outstate=7440, Room_Board=3300, Books=450, Personal=2200, PhD=70, Terminal=78, S_F_Ratio=18.1, perc_alumni=12, Expend=7041, Grad_Rate=60)"
      ]
     },
     "execution_count": 5,
     "metadata": {},
     "output_type": "execute_result"
    }
   ],
   "source": [
    "df.head()"
   ]
  },
  {
   "cell_type": "code",
   "execution_count": 6,
   "id": "cc33070c",
   "metadata": {},
   "outputs": [
    {
     "name": "stdout",
     "output_type": "stream",
     "text": [
      "+-------+--------------------+-------+------------------+------------------+----------------+------------------+------------------+-----------------+-----------------+------------------+------------------+------------------+------------------+------------------+------------------+------------------+------------------+----------------+------------------+\n",
      "|summary|              School|Private|              Apps|            Accept|          Enroll|         Top10perc|         Top25perc|      F_Undergrad|      P_Undergrad|          Outstate|        Room_Board|             Books|          Personal|               PhD|          Terminal|         S_F_Ratio|       perc_alumni|          Expend|         Grad_Rate|\n",
      "+-------+--------------------+-------+------------------+------------------+----------------+------------------+------------------+-----------------+-----------------+------------------+------------------+------------------+------------------+------------------+------------------+------------------+------------------+----------------+------------------+\n",
      "|  count|                 777|    777|               777|               777|             777|               777|               777|              777|              777|               777|               777|               777|               777|               777|               777|               777|               777|             777|               777|\n",
      "|   mean|                NULL|   NULL|3001.6383526383524|2018.8043758043757|779.972972972973| 27.55855855855856|  55.7966537966538|3699.907335907336|855.2985842985843| 10440.66924066924| 4357.526383526383| 549.3809523809524|1340.6422136422136| 72.66023166023166| 79.70270270270271|14.089703989703986|22.743886743886744|9660.17117117117| 65.46332046332046|\n",
      "| stddev|                NULL|   NULL|3870.2014844352884|  2451.11397099263| 929.17619013287|17.640364385452134|19.804777595131373|4850.420530887386|1522.431887295513|4023.0164841119727|1096.6964155935289|165.10536013709253|  677.071453590578|16.328154687939314|14.722358527903374|3.9583491352055478| 12.39180148937615|5221.76843985609|17.177709897155403|\n",
      "|    min|Abilene Christian...|     No|                81|                72|              35|                 1|                 9|              139|                1|              2340|              1780|                96|               250|                 8|                24|               2.5|                 0|            3186|                10|\n",
      "|    max|York College of P...|    Yes|             48094|             26330|            6392|                96|               100|            31643|            21836|             21700|              8124|              2340|              6800|               103|               100|              39.8|                64|           56233|               118|\n",
      "+-------+--------------------+-------+------------------+------------------+----------------+------------------+------------------+-----------------+-----------------+------------------+------------------+------------------+------------------+------------------+------------------+------------------+------------------+----------------+------------------+\n",
      "\n"
     ]
    }
   ],
   "source": [
    "df.describe().show()"
   ]
  },
  {
   "cell_type": "code",
   "execution_count": 7,
   "id": "dbdb5c85",
   "metadata": {},
   "outputs": [
    {
     "name": "stdout",
     "output_type": "stream",
     "text": [
      "+----------------------+\n",
      "|count(DISTINCT School)|\n",
      "+----------------------+\n",
      "|                   777|\n",
      "+----------------------+\n",
      "\n"
     ]
    }
   ],
   "source": [
    "df.select(count_distinct('School')).show()"
   ]
  },
  {
   "cell_type": "code",
   "execution_count": 8,
   "id": "25bf766b",
   "metadata": {},
   "outputs": [
    {
     "data": {
      "text/plain": [
       "[Row(School='Colorado College'),\n",
       " Row(School='Fresno Pacific College'),\n",
       " Row(School='Mount Marty College'),\n",
       " Row(School='University of Oklahoma'),\n",
       " Row(School='Widener University'),\n",
       " Row(School='Bethune Cookman College'),\n",
       " Row(School='Marquette University'),\n",
       " Row(School='New York University'),\n",
       " Row(School='Norwich University'),\n",
       " Row(School='SUNY College  at Oswego'),\n",
       " Row(School='University of Nebraska at Lincoln'),\n",
       " Row(School='Lindenwood College'),\n",
       " Row(School='Auburn University-Main Campus'),\n",
       " Row(School='Butler University'),\n",
       " Row(School='Carroll College'),\n",
       " Row(School='Smith College'),\n",
       " Row(School='University of California at Berkeley'),\n",
       " Row(School='Adelphi University'),\n",
       " Row(School='Blackburn College'),\n",
       " Row(School='Fordham University'),\n",
       " Row(School='Taylor University'),\n",
       " Row(School='Texas Southern University'),\n",
       " Row(School='University of Maine at Presque Isle'),\n",
       " Row(School='Stetson University'),\n",
       " Row(School='Tennessee Wesleyan College'),\n",
       " Row(School='Virginia Wesleyan College'),\n",
       " Row(School='Worcester State College'),\n",
       " Row(School='Beloit College'),\n",
       " Row(School='Concordia University'),\n",
       " Row(School='Gettysburg College'),\n",
       " Row(School='Marshall University'),\n",
       " Row(School='Monmouth College'),\n",
       " Row(School='SUNY at Binghamton'),\n",
       " Row(School='Bemidji State University'),\n",
       " Row(School='Bradley University'),\n",
       " Row(School='Dana College'),\n",
       " Row(School='Knox College'),\n",
       " Row(School='University of Mississippi'),\n",
       " Row(School='University of Scranton'),\n",
       " Row(School='Lamar University'),\n",
       " Row(School='Montreat-Anderson College'),\n",
       " Row(School='North Central College'),\n",
       " Row(School='South Dakota State University'),\n",
       " Row(School='St. Lawrence University'),\n",
       " Row(School=\"St. Mary's College of California\"),\n",
       " Row(School='University of Portland'),\n",
       " Row(School='Southwestern University'),\n",
       " Row(School='West Virginia Wesleyan College'),\n",
       " Row(School='Dickinson State University'),\n",
       " Row(School='Gonzaga University'),\n",
       " Row(School='Pacific Lutheran University'),\n",
       " Row(School='Saint Joseph College'),\n",
       " Row(School='Albion College'),\n",
       " Row(School='Briar Cliff College'),\n",
       " Row(School='College of Saint Elizabeth'),\n",
       " Row(School='Murray State University'),\n",
       " Row(School='Northwest Nazarene College'),\n",
       " Row(School='University of Puget Sound'),\n",
       " Row(School='MidAmerica Nazarene College'),\n",
       " Row(School='Emory University'),\n",
       " Row(School='Oakland University'),\n",
       " Row(School='Point Park College'),\n",
       " Row(School='University of Charleston'),\n",
       " Row(School='University of Wisconsin-Stout'),\n",
       " Row(School='Westminster College'),\n",
       " Row(School='Yale University'),\n",
       " Row(School='Millikin University'),\n",
       " Row(School='Central Missouri State University'),\n",
       " Row(School='Lincoln University'),\n",
       " Row(School='Georgian Court College'),\n",
       " Row(School='James Madison University'),\n",
       " Row(School='Loyola University Chicago'),\n",
       " Row(School='Arkansas College (Lyon College)'),\n",
       " Row(School='Georgetown College'),\n",
       " Row(School='Northeastern University'),\n",
       " Row(School='Philadelphia Coll. of Textiles and Sci.'),\n",
       " Row(School='Wilson College'),\n",
       " Row(School='Cazenovia College'),\n",
       " Row(School='Earlham College'),\n",
       " Row(School='Trinity College DC'),\n",
       " Row(School='Baylor University'),\n",
       " Row(School='DePauw University'),\n",
       " Row(School='Carnegie Mellon University'),\n",
       " Row(School='College of Charleston'),\n",
       " Row(School='Tabor College'),\n",
       " Row(School='University of Wisconsin at Milwaukee'),\n",
       " Row(School='Barnard College'),\n",
       " Row(School='Hiram College'),\n",
       " Row(School='Rhodes College'),\n",
       " Row(School='Shippensburg University of Penn.'),\n",
       " Row(School='SUNY at Buffalo'),\n",
       " Row(School='University of the Arts'),\n",
       " Row(School='Embry Riddle Aeronautical University'),\n",
       " Row(School='Evergreen State College'),\n",
       " Row(School='John Carroll University'),\n",
       " Row(School='Louisiana Tech University'),\n",
       " Row(School='Southern California College'),\n",
       " Row(School='Westminster College PA'),\n",
       " Row(School='Arkansas Tech University'),\n",
       " Row(School='College of Saint Catherine'),\n",
       " Row(School='Bethany College'),\n",
       " Row(School='Mississippi College'),\n",
       " Row(School='University of Cincinnati'),\n",
       " Row(School='University of Pittsburgh-Main Campus'),\n",
       " Row(School='Adrian College'),\n",
       " Row(School='Averett College'),\n",
       " Row(School='Bowdoin College'),\n",
       " Row(School='Denison University'),\n",
       " Row(School='La Roche College'),\n",
       " Row(School='Mesa State College'),\n",
       " Row(School='Niagara University'),\n",
       " Row(School='Providence College'),\n",
       " Row(School='Valparaiso University'),\n",
       " Row(School='Duke University'),\n",
       " Row(School='Franklin College'),\n",
       " Row(School='Andrews University'),\n",
       " Row(School='Hampden - Sydney College'),\n",
       " Row(School='Le Moyne College'),\n",
       " Row(School='Pikeville College'),\n",
       " Row(School='University of Denver'),\n",
       " Row(School='Columbia University'),\n",
       " Row(School='Rider University'),\n",
       " Row(School='Savannah Coll. of Art and Design'),\n",
       " Row(School=\"St. Paul's College\"),\n",
       " Row(School='Millersville University of Penn.'),\n",
       " Row(School='University of Michigan at Ann Arbor'),\n",
       " Row(School='University of St. Thomas TX'),\n",
       " Row(School='Drury College'),\n",
       " Row(School='Winona State University'),\n",
       " Row(School='Stonehill College'),\n",
       " Row(School='Western Washington University'),\n",
       " Row(School='Brewton-Parker College'),\n",
       " Row(School='Christian Brothers University'),\n",
       " Row(School='Emporia State University'),\n",
       " Row(School='Hampton University'),\n",
       " Row(School='Lycoming College'),\n",
       " Row(School='Marist College'),\n",
       " Row(School='Northwestern College'),\n",
       " Row(School='Peru State College'),\n",
       " Row(School='Sarah Lawrence College'),\n",
       " Row(School='University of Massachusetts at Amherst'),\n",
       " Row(School='University of North Carolina at Greensboro'),\n",
       " Row(School='University of Southern California'),\n",
       " Row(School='Allentown Coll. of St. Francis de Sales'),\n",
       " Row(School='Flagler College'),\n",
       " Row(School='Goshen College'),\n",
       " Row(School='Livingstone College'),\n",
       " Row(School='Marietta College'),\n",
       " Row(School='San Diego State University'),\n",
       " Row(School='Albertus Magnus College'),\n",
       " Row(School='Florida International University'),\n",
       " Row(School='Marymount College Tarrytown'),\n",
       " Row(School='Trenton State College'),\n",
       " Row(School='Green Mountain College'),\n",
       " Row(School='Grove City College'),\n",
       " Row(School='Univ. of Wisconsin at OshKosh'),\n",
       " Row(School='Abilene Christian University'),\n",
       " Row(School='Northern Arizona University'),\n",
       " Row(School='Rosary College'),\n",
       " Row(School='Salisbury State University'),\n",
       " Row(School='Illinois Institute of Technology'),\n",
       " Row(School='Baker University'),\n",
       " Row(School='East Tennessee State University'),\n",
       " Row(School='Loras College'),\n",
       " Row(School='Spalding University'),\n",
       " Row(School='McPherson College'),\n",
       " Row(School='Prairie View A. and M. University'),\n",
       " Row(School='Augustana College IL'),\n",
       " Row(School='Central Washington University'),\n",
       " Row(School='Eastern Connecticut State University'),\n",
       " Row(School='Freed-Hardeman University'),\n",
       " Row(School='Ripon College'),\n",
       " Row(School='Appalachian State University'),\n",
       " Row(School='Claremont McKenna College'),\n",
       " Row(School='Indiana State University'),\n",
       " Row(School='Queens College'),\n",
       " Row(School='University of Evansville'),\n",
       " Row(School='Ursinus College'),\n",
       " Row(School='Wesley College'),\n",
       " Row(School='Catholic University of America'),\n",
       " Row(School='Drew University'),\n",
       " Row(School='Washington and Jefferson College'),\n",
       " Row(School='Belmont University'),\n",
       " Row(School='Hamline University'),\n",
       " Row(School='Maryville College'),\n",
       " Row(School='University of Washington'),\n",
       " Row(School='Dowling College'),\n",
       " Row(School='Gwynedd Mercy College'),\n",
       " Row(School=\"Saint Mary's College of Minnesota\"),\n",
       " Row(School='University of Connecticut at Storrs'),\n",
       " Row(School='University of Tulsa'),\n",
       " Row(School='Schreiner College'),\n",
       " Row(School='Southern Methodist University'),\n",
       " Row(School='St. Bonaventure University'),\n",
       " Row(School='University of Delaware'),\n",
       " Row(School='Longwood College'),\n",
       " Row(School='Western Michigan University'),\n",
       " Row(School='Central Wesleyan College'),\n",
       " Row(School='Mount Saint Clare College'),\n",
       " Row(School='SUNY College  at Brockport'),\n",
       " Row(School='SUNY College at Geneseo'),\n",
       " Row(School='University of Minnesota Twin Cities'),\n",
       " Row(School='University of Southern Indiana'),\n",
       " Row(School='Vassar College'),\n",
       " Row(School='William Jewell College'),\n",
       " Row(School='Indiana Wesleyan University'),\n",
       " Row(School='Occidental College'),\n",
       " Row(School='Simpson College'),\n",
       " Row(School='Hastings College'),\n",
       " Row(School='Ohio Northern University'),\n",
       " Row(School='Samford University'),\n",
       " Row(School='Dordt College'),\n",
       " Row(School='Lenoir-Rhyne College'),\n",
       " Row(School='Princeton University'),\n",
       " Row(School='University of Dallas'),\n",
       " Row(School='Anderson University'),\n",
       " Row(School='Dillard University'),\n",
       " Row(School='Lafayette College'),\n",
       " Row(School='Montclair State University'),\n",
       " Row(School='University of Vermont'),\n",
       " Row(School='Wittenberg University'),\n",
       " Row(School='Carthage College'),\n",
       " Row(School='College of William and Mary'),\n",
       " Row(School='Gordon College'),\n",
       " Row(School='Indiana University at Bloomington'),\n",
       " Row(School='Sioux Falls College'),\n",
       " Row(School='Amherst College'),\n",
       " Row(School='Dominican College of Blauvelt'),\n",
       " Row(School='Graceland College'),\n",
       " Row(School='Lyndon State College'),\n",
       " Row(School='Pacific University'),\n",
       " Row(School=\"St. Mary's College of Maryland\"),\n",
       " Row(School='Tusculum College'),\n",
       " Row(School='Boston University'),\n",
       " Row(School='Seton Hill College'),\n",
       " Row(School='Stockton College of New Jersey'),\n",
       " Row(School='Austin College'),\n",
       " Row(School='Elms College'),\n",
       " Row(School='Washington University'),\n",
       " Row(School='Wheeling Jesuit College'),\n",
       " Row(School='Randolph-Macon College'),\n",
       " Row(School='Chatham College'),\n",
       " Row(School='Mount Union College'),\n",
       " Row(School='Fairfield University'),\n",
       " Row(School='Florida Southern College'),\n",
       " Row(School='Roanoke College'),\n",
       " Row(School='Wabash College'),\n",
       " Row(School='Birmingham-Southern College'),\n",
       " Row(School='Clarke College'),\n",
       " Row(School='College of the Holy Cross'),\n",
       " Row(School='Grand Valley State University'),\n",
       " Row(School='Mankato State University'),\n",
       " Row(School='Pace University'),\n",
       " Row(School='Worcester Polytechnic Institute'),\n",
       " Row(School='Illinois Wesleyan University'),\n",
       " Row(School='Western Carolina University'),\n",
       " Row(School='Alaska Pacific University'),\n",
       " Row(School='Marymount Manhattan College'),\n",
       " Row(School='Mount Mercy College'),\n",
       " Row(School='University of Northern Iowa'),\n",
       " Row(School='East Texas Baptist University'),\n",
       " Row(School='Eastern College'),\n",
       " Row(School='Goldey Beacom College'),\n",
       " Row(School='Hardin-Simmons University'),\n",
       " Row(School='King College'),\n",
       " Row(School='Walsh University'),\n",
       " Row(School='Grace College and Seminary'),\n",
       " Row(School='Mount Mary College'),\n",
       " Row(School='University of Richmond'),\n",
       " Row(School='Westminster College of Salt Lake City'),\n",
       " Row(School='Campbellsville College'),\n",
       " Row(School='Florida State University'),\n",
       " Row(School='North Carolina State University at Raleigh'),\n",
       " Row(School='Texas A&M Univ. at College Station'),\n",
       " Row(School='Western New England College'),\n",
       " Row(School='Elmira College'),\n",
       " Row(School='Guilford College'),\n",
       " Row(School='New Mexico Institute of Mining and Tech.'),\n",
       " Row(School='University of Mobile'),\n",
       " Row(School='Westminster College MO'),\n",
       " Row(School='Defiance College'),\n",
       " Row(School='New Jersey Institute of Technology'),\n",
       " Row(School='Northern Illinois University'),\n",
       " Row(School='Manhattan College'),\n",
       " Row(School='University of Florida'),\n",
       " Row(School='Westmont College'),\n",
       " Row(School='Alma College'),\n",
       " Row(School='Eckerd College'),\n",
       " Row(School='Roger Williams University'),\n",
       " Row(School='MacMurray College'),\n",
       " Row(School='Saint Francis College IN'),\n",
       " Row(School='Mississippi State University'),\n",
       " Row(School='Rockhurst College'),\n",
       " Row(School='Rollins College'),\n",
       " Row(School='Washington and Lee University'),\n",
       " Row(School='Dartmouth College'),\n",
       " Row(School='Gardner Webb University'),\n",
       " Row(School='Marymount University'),\n",
       " Row(School='Saint Francis College'),\n",
       " Row(School='University of Minnesota at Duluth'),\n",
       " Row(School='Incarnate Word College'),\n",
       " Row(School='Rutgers State University at Newark'),\n",
       " Row(School='Southwest Missouri State University'),\n",
       " Row(School='University of Central Florida'),\n",
       " Row(School='Claflin College'),\n",
       " Row(School='Maryville University'),\n",
       " Row(School='Michigan Technological University'),\n",
       " Row(School='Morehouse College'),\n",
       " Row(School='Morris College'),\n",
       " Row(School='Mount Saint Mary College'),\n",
       " Row(School=\"St. John's College\"),\n",
       " Row(School='Bridgewater College'),\n",
       " Row(School='Franklin Pierce College'),\n",
       " Row(School='Sacred Heart University'),\n",
       " Row(School=\"Saint John's University\"),\n",
       " Row(School='University of Wyoming'),\n",
       " Row(School='Iona College'),\n",
       " Row(School='Notre Dame College'),\n",
       " Row(School='Stevens Institute of Technology'),\n",
       " Row(School='SUNY College at Cortland'),\n",
       " Row(School='Susquehanna University'),\n",
       " Row(School='Ohio University'),\n",
       " Row(School='Rensselaer Polytechnic Institute'),\n",
       " Row(School='University of Maine at Machias'),\n",
       " Row(School='West Liberty State College'),\n",
       " Row(School='Arizona State University Main campus'),\n",
       " Row(School='Centenary College of Louisiana'),\n",
       " Row(School='Simmons College'),\n",
       " Row(School='SUNY College at New Paltz'),\n",
       " Row(School='Thiel College'),\n",
       " Row(School='University of North Texas'),\n",
       " Row(School='American International College'),\n",
       " Row(School='North Carolina A. & T. State University'),\n",
       " Row(School='Rutgers State University at Camden'),\n",
       " Row(School='Southeastern Oklahoma State Univ.'),\n",
       " Row(School='Coker College'),\n",
       " Row(School='North Park College'),\n",
       " Row(School='Polytechnic University'),\n",
       " Row(School='Webber College'),\n",
       " Row(School='California Polytechnic-San Luis'),\n",
       " Row(School='Quinnipiac College'),\n",
       " Row(School='Southwestern Adventist College'),\n",
       " Row(School='George Mason University'),\n",
       " Row(School=\"Saint Peter's College\"),\n",
       " Row(School='University of Maine at Farmington'),\n",
       " Row(School='Keene State College'),\n",
       " Row(School='SUNY College at Fredonia'),\n",
       " Row(School='University of Notre Dame'),\n",
       " Row(School='Columbia College MO'),\n",
       " Row(School='Concordia College at St. Paul'),\n",
       " Row(School='Ramapo College of New Jersey'),\n",
       " Row(School=\"Saint Mary's College\"),\n",
       " Row(School='University of St. Thomas MN'),\n",
       " Row(School='Wheaton College IL'),\n",
       " Row(School='University of Montevallo'),\n",
       " Row(School='University of North Carolina at Chapel Hill'),\n",
       " Row(School='Waynesburg College'),\n",
       " Row(School='Centre College'),\n",
       " Row(School='Mercyhurst College'),\n",
       " Row(School='Seattle Pacific University'),\n",
       " Row(School='Colby College'),\n",
       " Row(School='George Washington University'),\n",
       " Row(School='Otterbein College'),\n",
       " Row(School='Trinity College CT'),\n",
       " Row(School='Davidson College'),\n",
       " Row(School='Fontbonne College'),\n",
       " Row(School='Augsburg College'),\n",
       " Row(School='Barry University'),\n",
       " Row(School='Clemson University'),\n",
       " Row(School='Ferrum College'),\n",
       " Row(School='Jersey City State College'),\n",
       " Row(School='Loyola University'),\n",
       " Row(School='Salem College'),\n",
       " Row(School='Southwestern College'),\n",
       " Row(School='University of Missouri at Saint Louis'),\n",
       " Row(School='University of Wisconsin-Superior'),\n",
       " Row(School='Berry College'),\n",
       " Row(School='Rivier College'),\n",
       " Row(School='The Citadel'),\n",
       " Row(School='University of North Florida'),\n",
       " Row(School='Concordia Lutheran College'),\n",
       " Row(School='Dickinson College'),\n",
       " Row(School='Lynchburg College'),\n",
       " Row(School='Northeast Missouri State University'),\n",
       " Row(School='Viterbo College'),\n",
       " Row(School='Wells College'),\n",
       " Row(School='Central College'),\n",
       " Row(School=\"King's College\"),\n",
       " Row(School='SUNY College at Potsdam'),\n",
       " Row(School='SUNY College at Purchase'),\n",
       " Row(School='Clark University'),\n",
       " Row(School='Stephens College'),\n",
       " Row(School='Daniel Webster College'),\n",
       " Row(School='Hamilton College'),\n",
       " Row(School='Lakeland College'),\n",
       " Row(School='Trinity University'),\n",
       " Row(School='Wentworth Institute of Technology'),\n",
       " Row(School='Fayetteville State University'),\n",
       " Row(School='Illinois Benedictine College'),\n",
       " Row(School=\"Saint Joseph's College\"),\n",
       " Row(School='Belmont Abbey College'),\n",
       " Row(School='Columbia College'),\n",
       " Row(School='East Carolina University'),\n",
       " Row(School='Harding University'),\n",
       " Row(School='Juniata College'),\n",
       " Row(School='Cornell College'),\n",
       " Row(School='University of Missouri at Rolla'),\n",
       " Row(School='Kenyon College'),\n",
       " Row(School='Virginia Commonwealth University'),\n",
       " Row(School='Webster University'),\n",
       " Row(School='Hood College'),\n",
       " Row(School='Merrimack College'),\n",
       " Row(School='Monmouth College IL'),\n",
       " Row(School='Santa Clara University'),\n",
       " Row(School='Tulane University'),\n",
       " Row(School='University of Indianapolis'),\n",
       " Row(School='Willamette University'),\n",
       " Row(School='Christopher Newport University'),\n",
       " Row(School='North Carolina Wesleyan College'),\n",
       " Row(School='Jamestown College'),\n",
       " Row(School='Saint Anselm College'),\n",
       " Row(School='SUNY at Albany'),\n",
       " Row(School='Wayne State College'),\n",
       " Row(School='Winthrop University'),\n",
       " Row(School='Western State College of Colorado'),\n",
       " Row(School='Mercer University'),\n",
       " Row(School='Newberry College'),\n",
       " Row(School='William Woods University'),\n",
       " Row(School='Wofford College'),\n",
       " Row(School='Bennington College'),\n",
       " Row(School='Pennsylvania State Univ. Main Campus'),\n",
       " Row(School='University of Tennessee at Knoxville'),\n",
       " Row(School=\"D'Youville College\"),\n",
       " Row(School='Kansas Wesleyan University'),\n",
       " Row(School='SUNY College at Buffalo'),\n",
       " Row(School='Southeast Missouri State University'),\n",
       " Row(School='St. Thomas Aquinas College'),\n",
       " Row(School='Messiah College'),\n",
       " Row(School='Montana State University'),\n",
       " Row(School='University of Alabama at Birmingham'),\n",
       " Row(School='Wilkes University'),\n",
       " Row(School='Pitzer College'),\n",
       " Row(School='Reed College'),\n",
       " Row(School='University of Hawaii at Manoa'),\n",
       " Row(School='University of Missouri at Columbia'),\n",
       " Row(School='Whittier College'),\n",
       " Row(School='Cabrini College'),\n",
       " Row(School='Ouachita Baptist University'),\n",
       " Row(School='Gannon University'),\n",
       " Row(School='Husson College'),\n",
       " Row(School='McKendree College'),\n",
       " Row(School='Tuskegee University'),\n",
       " Row(School='University of Georgia'),\n",
       " Row(School='Whitworth College'),\n",
       " Row(School='Bucknell University'),\n",
       " Row(School='Johns Hopkins University'),\n",
       " Row(School='Morningside College'),\n",
       " Row(School='Shorter College'),\n",
       " Row(School='Chestnut Hill College'),\n",
       " Row(School='College of St. Joseph'),\n",
       " Row(School='Rocky Mountain College'),\n",
       " Row(School='University of Minnesota at Morris'),\n",
       " Row(School='Wartburg College'),\n",
       " Row(School='College of Mount St. Vincent'),\n",
       " Row(School='Elon College'),\n",
       " Row(School='Florida Institute of Technology'),\n",
       " Row(School='Rowan College of New Jersey'),\n",
       " Row(School='University of South Carolina at Columbia'),\n",
       " Row(School='Barat College'),\n",
       " Row(School='Beaver College'),\n",
       " Row(School='Harvey Mudd College'),\n",
       " Row(School='Ithaca College'),\n",
       " Row(School='Muhlenberg College'),\n",
       " Row(School='University of the Pacific'),\n",
       " Row(School='Voorhees College'),\n",
       " Row(School='York College of Pennsylvania'),\n",
       " Row(School='Brown University'),\n",
       " Row(School='Georgia Institute of Technology'),\n",
       " Row(School='Lehigh University'),\n",
       " Row(School='Millsaps College'),\n",
       " Row(School='St. Norbert College'),\n",
       " Row(School='Calvin College'),\n",
       " Row(School='Center for Creative Studies'),\n",
       " Row(School='Fort Lewis College'),\n",
       " Row(School='Wellesley College'),\n",
       " Row(School='Central Connecticut State University'),\n",
       " Row(School='Colorado State University'),\n",
       " Row(School='Quincy University'),\n",
       " Row(School='Skidmore College'),\n",
       " Row(School='University of New Hampshire'),\n",
       " Row(School='University of Rochester'),\n",
       " Row(School='Angelo State University'),\n",
       " Row(School='Alverno College'),\n",
       " Row(School='University of Arkansas at Fayetteville'),\n",
       " Row(School='Valley City State University'),\n",
       " Row(School='Vanderbilt University'),\n",
       " Row(School='Bloomsburg Univ. of Pennsylvania'),\n",
       " Row(School='Bluffton College'),\n",
       " Row(School='Elizabethtown College'),\n",
       " Row(School='Texas Lutheran College'),\n",
       " Row(School='Upper Iowa University'),\n",
       " Row(School='College of Santa Fe'),\n",
       " Row(School='Culver-Stockton College'),\n",
       " Row(School='Lesley College'),\n",
       " Row(School='Villanova University'),\n",
       " Row(School='Geneva College'),\n",
       " Row(School=\"St. Mary's University of San Antonio\"),\n",
       " Row(School='Alfred University'),\n",
       " Row(School='Eastern Nazarene College'),\n",
       " Row(School='University of Virginia'),\n",
       " Row(School='Albertson College'),\n",
       " Row(School='Lambuth University'),\n",
       " Row(School='North Dakota State University'),\n",
       " Row(School='University of Miami'),\n",
       " Row(School='Xavier University of Louisiana'),\n",
       " Row(School='Cedar Crest College'),\n",
       " Row(School='Erskine College'),\n",
       " Row(School='Huntington College'),\n",
       " Row(School='LeTourneau University'),\n",
       " Row(School='Point Loma Nazarene College'),\n",
       " Row(School='Clinch Valley Coll. of  the Univ. of Virginia'),\n",
       " Row(School='Linfield College'),\n",
       " Row(School='Montana College of Mineral Sci. & Tech.'),\n",
       " Row(School='University of Maryland at College Park'),\n",
       " Row(School='Western Maryland College'),\n",
       " Row(School='Antioch University'),\n",
       " Row(School='McMurry University'),\n",
       " Row(School='National-Louis University'),\n",
       " Row(School='Assumption College'),\n",
       " Row(School='Bellarmine College'),\n",
       " Row(School='Sweet Briar College'),\n",
       " Row(School='Wagner College'),\n",
       " Row(School='Benedictine College'),\n",
       " Row(School='Brenau University'),\n",
       " Row(School='Southwest Baptist University'),\n",
       " Row(School='SUNY College at Plattsburgh'),\n",
       " Row(School='LaGrange College'),\n",
       " Row(School='Lawrence University'),\n",
       " Row(School='Buena Vista College'),\n",
       " Row(School='Pembroke State University'),\n",
       " Row(School='Transylvania University'),\n",
       " Row(School='Union College NY'),\n",
       " Row(School='Brandeis University'),\n",
       " Row(School='Saint Vincent College'),\n",
       " Row(School='Southern Illinois University at Edwardsville'),\n",
       " Row(School='Francis Marion University'),\n",
       " Row(School='Mayville State University'),\n",
       " Row(School='Mount Vernon Nazarene College'),\n",
       " Row(School='Texas Christian University'),\n",
       " Row(School='University of Illinois - Urbana'),\n",
       " Row(School='Albright College'),\n",
       " Row(School='Missouri Southern State College'),\n",
       " Row(School='Piedmont College'),\n",
       " Row(School='SUNY at Stony Brook'),\n",
       " Row(School='Union College KY'),\n",
       " Row(School='Washington State University'),\n",
       " Row(School='Aquinas College'),\n",
       " Row(School='College of Notre Dame of Maryland'),\n",
       " Row(School='Hope College'),\n",
       " Row(School='West Chester University of Penn.'),\n",
       " Row(School='Bard College'),\n",
       " Row(School='College of Saint Benedict'),\n",
       " Row(School='Goucher College'),\n",
       " Row(School='Purdue University at West Lafayette'),\n",
       " Row(School='University of Sci. and Arts of Oklahoma'),\n",
       " Row(School='Wingate College'),\n",
       " Row(School='California State University at Fresno'),\n",
       " Row(School='Delta State University'),\n",
       " Row(School='Iowa State University'),\n",
       " Row(School='La Salle University'),\n",
       " Row(School='Lake Forest College'),\n",
       " Row(School='Meredith College'),\n",
       " Row(School='Talladega College'),\n",
       " Row(School='University of Massachusetts at Dartmouth'),\n",
       " Row(School='University of Wisconsin-Whitewater'),\n",
       " Row(School='Kansas State University'),\n",
       " Row(School='North Adams State College'),\n",
       " Row(School='Phillips University'),\n",
       " Row(School='Presbyterian College'),\n",
       " Row(School='Seattle University'),\n",
       " Row(School='University of San Francisco'),\n",
       " Row(School='Bentley College'),\n",
       " Row(School='Harvard University'),\n",
       " Row(School='Hillsdale College'),\n",
       " Row(School='Louisiana College'),\n",
       " Row(School='Saint Olaf College'),\n",
       " Row(School='Hobart and William Smith Colleges'),\n",
       " Row(School='Manhattanville College'),\n",
       " Row(School='University of North Dakota'),\n",
       " Row(School='University of Wisconsin at Green Bay'),\n",
       " Row(School='Wake Forest University'),\n",
       " Row(School='Brigham Young University at Provo'),\n",
       " Row(School='Northwestern University'),\n",
       " Row(School='Oklahoma State University'),\n",
       " Row(School='St. John Fisher College'),\n",
       " Row(School='Warren Wilson College'),\n",
       " Row(School='Regis College'),\n",
       " Row(School=\"Saint Michael's College\"),\n",
       " Row(School='Tiffin University'),\n",
       " Row(School='University of La Verne'),\n",
       " Row(School='Lewis University'),\n",
       " Row(School='College of Notre Dame'),\n",
       " Row(School='Cumberland College'),\n",
       " Row(School='Radford University'),\n",
       " Row(School='Siena Heights College'),\n",
       " Row(School='Trinity College VT'),\n",
       " Row(School='Virginia Union University'),\n",
       " Row(School='Washington College'),\n",
       " Row(School='University of Chicago'),\n",
       " Row(School='Chapman University'),\n",
       " Row(School='Lincoln Memorial University'),\n",
       " Row(School='Northwest Missouri State University'),\n",
       " Row(School='Oglethorpe University'),\n",
       " Row(School=\"St. Martin's College\"),\n",
       " Row(School='Carleton College'),\n",
       " Row(School=\"Randolph-Macon Woman's College\"),\n",
       " Row(School=\"Saint Joseph's University\"),\n",
       " Row(School='University of Maryland at Baltimore County'),\n",
       " Row(School='Virginia State University'),\n",
       " Row(School='Wesleyan University'),\n",
       " Row(School='Agnes Scott College'),\n",
       " Row(School='Catawba College'),\n",
       " Row(School='Drake University'),\n",
       " Row(School='Illinois College'),\n",
       " Row(School='Muskingum College'),\n",
       " Row(School='University of New England'),\n",
       " Row(School='Oberlin College'),\n",
       " Row(School='Southwest State University'),\n",
       " Row(School='University of Utah'),\n",
       " Row(School='Capital University'),\n",
       " Row(School='Eureka College'),\n",
       " Row(School='Lewis and Clark College'),\n",
       " Row(School='Moravian College'),\n",
       " Row(School='Syracuse University'),\n",
       " Row(School='California Lutheran University'),\n",
       " Row(School='Castleton State College'),\n",
       " Row(School=\"Mount Saint Mary's College\"),\n",
       " Row(School='Rutgers at New Brunswick'),\n",
       " Row(School='University of Oregon'),\n",
       " Row(School='Mississippi University for Women'),\n",
       " Row(School='Saint Ambrose University'),\n",
       " Row(School='Baldwin-Wallace College'),\n",
       " Row(School='College of Saint Rose'),\n",
       " Row(School='Converse College'),\n",
       " Row(School='Houghton College'),\n",
       " Row(School='Mount Holyoke College'),\n",
       " Row(School='Campbell University'),\n",
       " Row(School='Lock Haven University of Pennsylvania'),\n",
       " Row(School='Franciscan University of Steubenville'),\n",
       " Row(School='Scripps College'),\n",
       " Row(School='University of North Carolina at Wilmington'),\n",
       " Row(School='Hollins College'),\n",
       " Row(School='Johnson State College'),\n",
       " Row(School='Milligan College'),\n",
       " Row(School='University of South Florida'),\n",
       " Row(School='Allegheny College'),\n",
       " Row(School='Cedarville College'),\n",
       " Row(School='Huntingdon College'),\n",
       " Row(School='Macalester College'),\n",
       " Row(School='Siena College'),\n",
       " Row(School='Colgate University'),\n",
       " Row(School='Illinois State University'),\n",
       " Row(School='Spelman College'),\n",
       " Row(School='University of Rhode Island'),\n",
       " Row(School='Lebanon Valley College'),\n",
       " Row(School='Missouri Valley College'),\n",
       " Row(School=\"Saint Joseph's College IN\"),\n",
       " Row(School='Texas A&M University at Galveston'),\n",
       " Row(School='University of Texas at Austin'),\n",
       " Row(School='Lander University'),\n",
       " Row(School='Milwaukee School of Engineering'),\n",
       " Row(School='Moorhead State University'),\n",
       " Row(School='Williams College'),\n",
       " Row(School='Xavier University'),\n",
       " Row(School='Bowling Green State University'),\n",
       " Row(School='Caldwell College'),\n",
       " Row(School='Christendom College'),\n",
       " Row(School='Saint Louis University'),\n",
       " Row(School='Seton Hall University'),\n",
       " Row(School='University of Illinois at Chicago'),\n",
       " Row(School='Greenville College'),\n",
       " Row(School='Huron University'),\n",
       " Row(School='Mary Baldwin College'),\n",
       " Row(School='University of Kansas'),\n",
       " Row(School='University of South Carolina at Aiken'),\n",
       " Row(School='Centenary College'),\n",
       " Row(School='Hofstra University'),\n",
       " Row(School='Immaculata College'),\n",
       " Row(School='University of Wisconsin at Madison'),\n",
       " Row(School='Whitman College'),\n",
       " Row(School='Bethel College'),\n",
       " Row(School='Canisius College'),\n",
       " Row(School='Eastern Mennonite College'),\n",
       " Row(School='Georgia State University'),\n",
       " Row(School='Our Lady of the Lake University'),\n",
       " Row(School='Manchester College'),\n",
       " Row(School='Pepperdine University'),\n",
       " Row(School='Saint Cloud State University'),\n",
       " Row(School='Salem-Teikyo University'),\n",
       " Row(School='Gustavus Adolphus College'),\n",
       " Row(School='Wisconsin Lutheran College'),\n",
       " Row(School='George Fox College'),\n",
       " Row(School='Georgetown University'),\n",
       " Row(School='Mary Washington College'),\n",
       " Row(School='University of the South'),\n",
       " Row(School='Capitol College'),\n",
       " Row(School='College of Mount St. Joseph'),\n",
       " Row(School='Luther College'),\n",
       " Row(School='Oklahoma Christian University'),\n",
       " Row(School='Virginia Tech'),\n",
       " Row(School='Hendrix College'),\n",
       " Row(School='Nazareth College of Rochester'),\n",
       " Row(School='University of Dayton'),\n",
       " Row(School='University of Dubuque'),\n",
       " Row(School='Emory & Henry College'),\n",
       " Row(School='Judson College'),\n",
       " Row(School='Keuka College'),\n",
       " Row(School='University of Southern Mississippi'),\n",
       " Row(School='Bethel College KS'),\n",
       " Row(School='Oklahoma Baptist University'),\n",
       " Row(School='College of Wooster'),\n",
       " Row(School='Marywood College'),\n",
       " Row(School='Spring Arbor College'),\n",
       " Row(School='University of Texas at Arlington'),\n",
       " Row(School='Hartwick College'),\n",
       " Row(School='Marian College of Fond du Lac'),\n",
       " Row(School='Miami University at Oxford'),\n",
       " Row(School='Case Western Reserve University'),\n",
       " Row(School='Grinnell College'),\n",
       " Row(School='Michigan State University'),\n",
       " Row(School='Westfield State College'),\n",
       " Row(School='College of St. Scholastica'),\n",
       " Row(School='Connecticut College'),\n",
       " Row(School='University of North Carolina at Asheville'),\n",
       " Row(School='University of Pennsylvania'),\n",
       " Row(School='University of San Diego'),\n",
       " Row(School='University of Southern Colorado'),\n",
       " Row(School='Ursuline College'),\n",
       " Row(School='Carson-Newman College'),\n",
       " Row(School='Furman University'),\n",
       " Row(School='Loyola Marymount University'),\n",
       " Row(School='Saint Mary-of-the-Woods College'),\n",
       " Row(School='Saint Xavier University'),\n",
       " Row(School='University of Louisville'),\n",
       " Row(School='University of Texas at San Antonio'),\n",
       " Row(School='Alderson-Broaddus College'),\n",
       " Row(School='Concordia University CA'),\n",
       " Row(School='Pacific Union College'),\n",
       " Row(School='University of California at Irvine'),\n",
       " Row(School='Kentucky Wesleyan College'),\n",
       " Row(School='Louisiana State University at Baton Rouge'),\n",
       " Row(School='Loyola College'),\n",
       " Row(School='Ohio Wesleyan University'),\n",
       " Row(School='Texas Wesleyan University'),\n",
       " Row(School='University of North Carolina at Charlotte'),\n",
       " Row(School='University of Northern Colorado'),\n",
       " Row(School='Greensboro College'),\n",
       " Row(School='Augustana College'),\n",
       " Row(School='Hanover College'),\n",
       " Row(School='Massachusetts Institute of Technology'),\n",
       " Row(School='Bryn Mawr College'),\n",
       " Row(School='Creighton University'),\n",
       " Row(School=\"Mount St. Mary's College\"),\n",
       " Row(School='University of Hartford'),\n",
       " Row(School='University of West Florida'),\n",
       " Row(School='Coe College'),\n",
       " Row(School='College Misericordia'),\n",
       " Row(School='John Brown University'),\n",
       " Row(School='Malone College'),\n",
       " Row(School='Bluefield College'),\n",
       " Row(School='Bradford College'),\n",
       " Row(School='Doane College'),\n",
       " Row(School='Eastern Illinois University'),\n",
       " Row(School='Tri-State University'),\n",
       " Row(School='Clarkson University'),\n",
       " Row(School='Pfeiffer College'),\n",
       " Row(School='University of Detroit Mercy')]"
      ]
     },
     "execution_count": 8,
     "metadata": {},
     "output_type": "execute_result"
    }
   ],
   "source": [
    "df.select('School').distinct().collect()"
   ]
  },
  {
   "cell_type": "code",
   "execution_count": 9,
   "id": "f18a8261",
   "metadata": {},
   "outputs": [
    {
     "data": {
      "text/plain": [
       "['School',\n",
       " 'Private',\n",
       " 'Apps',\n",
       " 'Accept',\n",
       " 'Enroll',\n",
       " 'Top10perc',\n",
       " 'Top25perc',\n",
       " 'F_Undergrad',\n",
       " 'P_Undergrad',\n",
       " 'Outstate',\n",
       " 'Room_Board',\n",
       " 'Books',\n",
       " 'Personal',\n",
       " 'PhD',\n",
       " 'Terminal',\n",
       " 'S_F_Ratio',\n",
       " 'perc_alumni',\n",
       " 'Expend',\n",
       " 'Grad_Rate']"
      ]
     },
     "execution_count": 9,
     "metadata": {},
     "output_type": "execute_result"
    }
   ],
   "source": [
    "df.columns"
   ]
  },
  {
   "cell_type": "code",
   "execution_count": 10,
   "id": "b068be4e",
   "metadata": {},
   "outputs": [
    {
     "data": {
      "text/plain": [
       "VectorAssembler_39f858fd4d96"
      ]
     },
     "execution_count": 10,
     "metadata": {},
     "output_type": "execute_result"
    }
   ],
   "source": [
    "assembler = VectorAssembler(inputCols=['Apps',\n",
    " 'Accept',\n",
    " 'Enroll',\n",
    " 'Top10perc',\n",
    " 'Top25perc',\n",
    " 'F_Undergrad',\n",
    " 'P_Undergrad',\n",
    " 'Outstate',\n",
    " 'Room_Board',\n",
    " 'Books',\n",
    " 'Personal',\n",
    " 'PhD',\n",
    " 'Terminal',\n",
    " 'S_F_Ratio',\n",
    " 'perc_alumni',\n",
    " 'Expend',\n",
    " 'Grad_Rate'],outputCol='features')\n",
    "assembler"
   ]
  },
  {
   "cell_type": "code",
   "execution_count": 11,
   "id": "20daa83a",
   "metadata": {},
   "outputs": [
    {
     "name": "stdout",
     "output_type": "stream",
     "text": [
      "+--------------------+-------+----+------+------+---------+---------+-----------+-----------+--------+----------+-----+--------+---+--------+---------+-----------+------+---------+--------------------+\n",
      "|              School|Private|Apps|Accept|Enroll|Top10perc|Top25perc|F_Undergrad|P_Undergrad|Outstate|Room_Board|Books|Personal|PhD|Terminal|S_F_Ratio|perc_alumni|Expend|Grad_Rate|            features|\n",
      "+--------------------+-------+----+------+------+---------+---------+-----------+-----------+--------+----------+-----+--------+---+--------+---------+-----------+------+---------+--------------------+\n",
      "|Abilene Christian...|    Yes|1660|  1232|   721|       23|       52|       2885|        537|    7440|      3300|  450|    2200| 70|      78|     18.1|         12|  7041|       60|[1660.0,1232.0,72...|\n",
      "|  Adelphi University|    Yes|2186|  1924|   512|       16|       29|       2683|       1227|   12280|      6450|  750|    1500| 29|      30|     12.2|         16| 10527|       56|[2186.0,1924.0,51...|\n",
      "|      Adrian College|    Yes|1428|  1097|   336|       22|       50|       1036|         99|   11250|      3750|  400|    1165| 53|      66|     12.9|         30|  8735|       54|[1428.0,1097.0,33...|\n",
      "| Agnes Scott College|    Yes| 417|   349|   137|       60|       89|        510|         63|   12960|      5450|  450|     875| 92|      97|      7.7|         37| 19016|       59|[417.0,349.0,137....|\n",
      "|Alaska Pacific Un...|    Yes| 193|   146|    55|       16|       44|        249|        869|    7560|      4120|  800|    1500| 76|      72|     11.9|          2| 10922|       15|[193.0,146.0,55.0...|\n",
      "|   Albertson College|    Yes| 587|   479|   158|       38|       62|        678|         41|   13500|      3335|  500|     675| 67|      73|      9.4|         11|  9727|       55|[587.0,479.0,158....|\n",
      "|Albertus Magnus C...|    Yes| 353|   340|   103|       17|       45|        416|        230|   13290|      5720|  500|    1500| 90|      93|     11.5|         26|  8861|       63|[353.0,340.0,103....|\n",
      "|      Albion College|    Yes|1899|  1720|   489|       37|       68|       1594|         32|   13868|      4826|  450|     850| 89|     100|     13.7|         37| 11487|       73|[1899.0,1720.0,48...|\n",
      "|    Albright College|    Yes|1038|   839|   227|       30|       63|        973|        306|   15595|      4400|  300|     500| 79|      84|     11.3|         23| 11644|       80|[1038.0,839.0,227...|\n",
      "|Alderson-Broaddus...|    Yes| 582|   498|   172|       21|       44|        799|         78|   10468|      3380|  660|    1800| 40|      41|     11.5|         15|  8991|       52|[582.0,498.0,172....|\n",
      "|   Alfred University|    Yes|1732|  1425|   472|       37|       75|       1830|        110|   16548|      5406|  500|     600| 82|      88|     11.3|         31| 10932|       73|[1732.0,1425.0,47...|\n",
      "|   Allegheny College|    Yes|2652|  1900|   484|       44|       77|       1707|         44|   17080|      4440|  400|     600| 73|      91|      9.9|         41| 11711|       76|[2652.0,1900.0,48...|\n",
      "|Allentown Coll. o...|    Yes|1179|   780|   290|       38|       64|       1130|        638|    9690|      4785|  600|    1000| 60|      84|     13.3|         21|  7940|       74|[1179.0,780.0,290...|\n",
      "|        Alma College|    Yes|1267|  1080|   385|       44|       73|       1306|         28|   12572|      4552|  400|     400| 79|      87|     15.3|         32|  9305|       68|[1267.0,1080.0,38...|\n",
      "|     Alverno College|    Yes| 494|   313|   157|       23|       46|       1317|       1235|    8352|      3640|  650|    2449| 36|      69|     11.1|         26|  8127|       55|[494.0,313.0,157....|\n",
      "|American Internat...|    Yes|1420|  1093|   220|        9|       22|       1018|        287|    8700|      4780|  450|    1400| 78|      84|     14.7|         19|  7355|       69|[1420.0,1093.0,22...|\n",
      "|     Amherst College|    Yes|4302|   992|   418|       83|       96|       1593|          5|   19760|      5300|  660|    1598| 93|      98|      8.4|         63| 21424|      100|[4302.0,992.0,418...|\n",
      "| Anderson University|    Yes|1216|   908|   423|       19|       40|       1819|        281|   10100|      3520|  550|    1100| 48|      61|     12.1|         14|  7994|       59|[1216.0,908.0,423...|\n",
      "|  Andrews University|    Yes|1130|   704|   322|       14|       23|       1586|        326|    9996|      3090|  900|    1320| 62|      66|     11.5|         18| 10908|       46|[1130.0,704.0,322...|\n",
      "|Angelo State Univ...|     No|3540|  2001|  1016|       24|       54|       4190|       1512|    5130|      3592|  500|    2000| 60|      62|     23.1|          5|  4010|       34|[3540.0,2001.0,10...|\n",
      "+--------------------+-------+----+------+------+---------+---------+-----------+-----------+--------+----------+-----+--------+---+--------+---------+-----------+------+---------+--------------------+\n",
      "only showing top 20 rows\n",
      "\n"
     ]
    }
   ],
   "source": [
    "output = assembler.transform(df)\n",
    "output.show()"
   ]
  },
  {
   "cell_type": "code",
   "execution_count": 12,
   "id": "56e0fb91",
   "metadata": {},
   "outputs": [
    {
     "name": "stdout",
     "output_type": "stream",
     "text": [
      "+-------+-----+\n",
      "|Private|count|\n",
      "+-------+-----+\n",
      "|     No|  212|\n",
      "|    Yes|  565|\n",
      "+-------+-----+\n",
      "\n"
     ]
    }
   ],
   "source": [
    "output.groupBy('Private').count().show()"
   ]
  },
  {
   "cell_type": "code",
   "execution_count": 13,
   "id": "cce57bc2",
   "metadata": {},
   "outputs": [
    {
     "data": {
      "text/plain": [
       "StringIndexer_a9bef6c1720b"
      ]
     },
     "execution_count": 13,
     "metadata": {},
     "output_type": "execute_result"
    }
   ],
   "source": [
    "indexer = StringIndexer(inputCol='Private',outputCol='PrivateIndex')\n",
    "indexer"
   ]
  },
  {
   "cell_type": "code",
   "execution_count": 14,
   "id": "d2bfbe6b",
   "metadata": {},
   "outputs": [
    {
     "name": "stdout",
     "output_type": "stream",
     "text": [
      "+--------------------+-------+----+------+------+---------+---------+-----------+-----------+--------+----------+-----+--------+---+--------+---------+-----------+------+---------+--------------------+------------+\n",
      "|              School|Private|Apps|Accept|Enroll|Top10perc|Top25perc|F_Undergrad|P_Undergrad|Outstate|Room_Board|Books|Personal|PhD|Terminal|S_F_Ratio|perc_alumni|Expend|Grad_Rate|            features|PrivateIndex|\n",
      "+--------------------+-------+----+------+------+---------+---------+-----------+-----------+--------+----------+-----+--------+---+--------+---------+-----------+------+---------+--------------------+------------+\n",
      "|Abilene Christian...|    Yes|1660|  1232|   721|       23|       52|       2885|        537|    7440|      3300|  450|    2200| 70|      78|     18.1|         12|  7041|       60|[1660.0,1232.0,72...|         0.0|\n",
      "|  Adelphi University|    Yes|2186|  1924|   512|       16|       29|       2683|       1227|   12280|      6450|  750|    1500| 29|      30|     12.2|         16| 10527|       56|[2186.0,1924.0,51...|         0.0|\n",
      "|      Adrian College|    Yes|1428|  1097|   336|       22|       50|       1036|         99|   11250|      3750|  400|    1165| 53|      66|     12.9|         30|  8735|       54|[1428.0,1097.0,33...|         0.0|\n",
      "| Agnes Scott College|    Yes| 417|   349|   137|       60|       89|        510|         63|   12960|      5450|  450|     875| 92|      97|      7.7|         37| 19016|       59|[417.0,349.0,137....|         0.0|\n",
      "|Alaska Pacific Un...|    Yes| 193|   146|    55|       16|       44|        249|        869|    7560|      4120|  800|    1500| 76|      72|     11.9|          2| 10922|       15|[193.0,146.0,55.0...|         0.0|\n",
      "|   Albertson College|    Yes| 587|   479|   158|       38|       62|        678|         41|   13500|      3335|  500|     675| 67|      73|      9.4|         11|  9727|       55|[587.0,479.0,158....|         0.0|\n",
      "|Albertus Magnus C...|    Yes| 353|   340|   103|       17|       45|        416|        230|   13290|      5720|  500|    1500| 90|      93|     11.5|         26|  8861|       63|[353.0,340.0,103....|         0.0|\n",
      "|      Albion College|    Yes|1899|  1720|   489|       37|       68|       1594|         32|   13868|      4826|  450|     850| 89|     100|     13.7|         37| 11487|       73|[1899.0,1720.0,48...|         0.0|\n",
      "|    Albright College|    Yes|1038|   839|   227|       30|       63|        973|        306|   15595|      4400|  300|     500| 79|      84|     11.3|         23| 11644|       80|[1038.0,839.0,227...|         0.0|\n",
      "|Alderson-Broaddus...|    Yes| 582|   498|   172|       21|       44|        799|         78|   10468|      3380|  660|    1800| 40|      41|     11.5|         15|  8991|       52|[582.0,498.0,172....|         0.0|\n",
      "|   Alfred University|    Yes|1732|  1425|   472|       37|       75|       1830|        110|   16548|      5406|  500|     600| 82|      88|     11.3|         31| 10932|       73|[1732.0,1425.0,47...|         0.0|\n",
      "|   Allegheny College|    Yes|2652|  1900|   484|       44|       77|       1707|         44|   17080|      4440|  400|     600| 73|      91|      9.9|         41| 11711|       76|[2652.0,1900.0,48...|         0.0|\n",
      "|Allentown Coll. o...|    Yes|1179|   780|   290|       38|       64|       1130|        638|    9690|      4785|  600|    1000| 60|      84|     13.3|         21|  7940|       74|[1179.0,780.0,290...|         0.0|\n",
      "|        Alma College|    Yes|1267|  1080|   385|       44|       73|       1306|         28|   12572|      4552|  400|     400| 79|      87|     15.3|         32|  9305|       68|[1267.0,1080.0,38...|         0.0|\n",
      "|     Alverno College|    Yes| 494|   313|   157|       23|       46|       1317|       1235|    8352|      3640|  650|    2449| 36|      69|     11.1|         26|  8127|       55|[494.0,313.0,157....|         0.0|\n",
      "|American Internat...|    Yes|1420|  1093|   220|        9|       22|       1018|        287|    8700|      4780|  450|    1400| 78|      84|     14.7|         19|  7355|       69|[1420.0,1093.0,22...|         0.0|\n",
      "|     Amherst College|    Yes|4302|   992|   418|       83|       96|       1593|          5|   19760|      5300|  660|    1598| 93|      98|      8.4|         63| 21424|      100|[4302.0,992.0,418...|         0.0|\n",
      "| Anderson University|    Yes|1216|   908|   423|       19|       40|       1819|        281|   10100|      3520|  550|    1100| 48|      61|     12.1|         14|  7994|       59|[1216.0,908.0,423...|         0.0|\n",
      "|  Andrews University|    Yes|1130|   704|   322|       14|       23|       1586|        326|    9996|      3090|  900|    1320| 62|      66|     11.5|         18| 10908|       46|[1130.0,704.0,322...|         0.0|\n",
      "|Angelo State Univ...|     No|3540|  2001|  1016|       24|       54|       4190|       1512|    5130|      3592|  500|    2000| 60|      62|     23.1|          5|  4010|       34|[3540.0,2001.0,10...|         1.0|\n",
      "+--------------------+-------+----+------+------+---------+---------+-----------+-----------+--------+----------+-----+--------+---+--------+---------+-----------+------+---------+--------------------+------------+\n",
      "only showing top 20 rows\n",
      "\n"
     ]
    }
   ],
   "source": [
    "output = indexer.fit(output).transform(output)\n",
    "output.show()"
   ]
  },
  {
   "cell_type": "code",
   "execution_count": 15,
   "id": "2e73dfbb",
   "metadata": {},
   "outputs": [
    {
     "name": "stdout",
     "output_type": "stream",
     "text": [
      "+--------------------+------------+\n",
      "|            features|PrivateIndex|\n",
      "+--------------------+------------+\n",
      "|[1660.0,1232.0,72...|         0.0|\n",
      "|[2186.0,1924.0,51...|         0.0|\n",
      "|[1428.0,1097.0,33...|         0.0|\n",
      "|[417.0,349.0,137....|         0.0|\n",
      "|[193.0,146.0,55.0...|         0.0|\n",
      "+--------------------+------------+\n",
      "only showing top 5 rows\n",
      "\n"
     ]
    }
   ],
   "source": [
    "final_df = output.select('features','PrivateIndex')\n",
    "final_df.show(5)"
   ]
  },
  {
   "cell_type": "code",
   "execution_count": 16,
   "id": "b0cee076",
   "metadata": {},
   "outputs": [],
   "source": [
    "train_df, test_df = final_df.randomSplit([0.75,0.25])"
   ]
  },
  {
   "cell_type": "code",
   "execution_count": 17,
   "id": "7865845b",
   "metadata": {},
   "outputs": [
    {
     "data": {
      "text/plain": [
       "(590, 187)"
      ]
     },
     "execution_count": 17,
     "metadata": {},
     "output_type": "execute_result"
    }
   ],
   "source": [
    "train_df.count(), test_df.count()"
   ]
  },
  {
   "cell_type": "code",
   "execution_count": 18,
   "id": "95ddb848",
   "metadata": {},
   "outputs": [
    {
     "name": "stdout",
     "output_type": "stream",
     "text": [
      "+--------------------+------------+\n",
      "|            features|PrivateIndex|\n",
      "+--------------------+------------+\n",
      "|[81.0,72.0,51.0,3...|         0.0|\n",
      "|[100.0,90.0,35.0,...|         0.0|\n",
      "|[141.0,118.0,55.0...|         0.0|\n",
      "|[150.0,130.0,88.0...|         0.0|\n",
      "|[152.0,128.0,75.0...|         0.0|\n",
      "+--------------------+------------+\n",
      "only showing top 5 rows\n",
      "\n"
     ]
    }
   ],
   "source": [
    "train_df.show(5)"
   ]
  },
  {
   "cell_type": "code",
   "execution_count": 19,
   "id": "061966f7",
   "metadata": {},
   "outputs": [
    {
     "name": "stdout",
     "output_type": "stream",
     "text": [
      "+--------------------+------------+\n",
      "|            features|PrivateIndex|\n",
      "+--------------------+------------+\n",
      "|[174.0,146.0,88.0...|         0.0|\n",
      "|[193.0,146.0,55.0...|         0.0|\n",
      "|[202.0,184.0,122....|         0.0|\n",
      "|[222.0,185.0,91.0...|         0.0|\n",
      "|[233.0,233.0,153....|         1.0|\n",
      "+--------------------+------------+\n",
      "only showing top 5 rows\n",
      "\n"
     ]
    }
   ],
   "source": [
    "test_df.show(5)"
   ]
  },
  {
   "cell_type": "code",
   "execution_count": 20,
   "id": "9d3d7905",
   "metadata": {},
   "outputs": [],
   "source": [
    "dtc = DecisionTreeClassifier(featuresCol='features',labelCol='PrivateIndex')\n",
    "rfc = RandomForestClassifier(featuresCol='features',labelCol='PrivateIndex')\n",
    "gbc = GBTClassifier(featuresCol='features',labelCol='PrivateIndex')\n",
    "fmc = FMClassifier(featuresCol='features',labelCol='PrivateIndex')"
   ]
  },
  {
   "cell_type": "code",
   "execution_count": 21,
   "id": "e407a1d2",
   "metadata": {},
   "outputs": [],
   "source": [
    "dtc_model = dtc.fit(train_df)\n",
    "rfc_model = rfc.fit(train_df)\n",
    "gbc_model = gbc.fit(train_df)\n",
    "fm_model = fmc.fit(train_df)"
   ]
  },
  {
   "cell_type": "code",
   "execution_count": 22,
   "id": "bfd63f40",
   "metadata": {},
   "outputs": [],
   "source": [
    "dtc_preds = dtc_model.transform(test_df)\n",
    "rfc_preds = rfc_model.transform(test_df)\n",
    "gbc_preds = gbc_model.transform(test_df)\n",
    "fm_preds = fm_model.transform(test_df)"
   ]
  },
  {
   "cell_type": "code",
   "execution_count": 23,
   "id": "fef1f370",
   "metadata": {},
   "outputs": [
    {
     "name": "stdout",
     "output_type": "stream",
     "text": [
      "AUC of DT: 0.8507598784194529\n",
      "AUC of RF: 0.9840425531914893\n",
      "AUC of GB: 0.9556990881458963\n",
      "AUC of FM: 0.9609422492401214\n"
     ]
    }
   ],
   "source": [
    "auc_eval = BinaryClassificationEvaluator(labelCol='PrivateIndex')\n",
    "print(\"AUC of DT:\",auc_eval.evaluate(dtc_preds))\n",
    "print(\"AUC of RF:\",auc_eval.evaluate(rfc_preds))\n",
    "print(\"AUC of GB:\",auc_eval.evaluate(gbc_preds))\n",
    "print(\"AUC of FM:\",auc_eval.evaluate(fm_preds))"
   ]
  },
  {
   "cell_type": "code",
   "execution_count": 24,
   "id": "8efd8827",
   "metadata": {},
   "outputs": [
    {
     "name": "stdout",
     "output_type": "stream",
     "text": [
      "Area under PR curve of DT: 0.8043557176742537\n",
      "Area under PR curve of RF: 0.9550830265426585\n",
      "Area under PR curve of GB: 0.9198691352401103\n",
      "Area under PR curve of FM: 0.8544879577315782\n"
     ]
    }
   ],
   "source": [
    "pr_eval = BinaryClassificationEvaluator(labelCol='PrivateIndex',metricName='areaUnderPR')\n",
    "print(\"Area under PR curve of DT:\",pr_eval.evaluate(dtc_preds))\n",
    "print(\"Area under PR curve of RF:\",pr_eval.evaluate(rfc_preds))\n",
    "print(\"Area under PR curve of GB:\",pr_eval.evaluate(gbc_preds))\n",
    "print(\"Area under PR curve of FM:\",pr_eval.evaluate(fm_preds))"
   ]
  },
  {
   "cell_type": "code",
   "execution_count": 25,
   "id": "1567e5c2",
   "metadata": {},
   "outputs": [
    {
     "name": "stdout",
     "output_type": "stream",
     "text": [
      "DT Accuracy: 0.9144385026737968\n",
      "RF Accuracy: 0.9197860962566845\n",
      "GB Accuracy: 0.9251336898395722\n",
      "FM Accuracy: 0.93048128342246\n"
     ]
    }
   ],
   "source": [
    "acc_eval = MulticlassClassificationEvaluator(labelCol='PrivateIndex',metricName='accuracy')\n",
    "print(\"DT Accuracy:\",acc_eval.evaluate(dtc_preds))\n",
    "print(\"RF Accuracy:\",acc_eval.evaluate(rfc_preds))\n",
    "print(\"GB Accuracy:\",acc_eval.evaluate(gbc_preds))\n",
    "print(\"FM Accuracy:\",acc_eval.evaluate(fm_preds))"
   ]
  },
  {
   "cell_type": "code",
   "execution_count": 26,
   "id": "5a8a44d7",
   "metadata": {},
   "outputs": [
    {
     "name": "stdout",
     "output_type": "stream",
     "text": [
      "DT F1 Score: 0.9124191316704686\n",
      "RF F1 Score: 0.9182365274479236\n",
      "GB F1 Score: 0.9239972215945704\n",
      "FM F1 Score: 0.931179859978191\n"
     ]
    }
   ],
   "source": [
    "f1_eval = MulticlassClassificationEvaluator(labelCol='PrivateIndex',metricName='f1')\n",
    "print(\"DT F1 Score:\",f1_eval.evaluate(dtc_preds))\n",
    "print(\"RF F1 Score:\",f1_eval.evaluate(rfc_preds))\n",
    "print(\"GB F1 Score:\",f1_eval.evaluate(gbc_preds))\n",
    "print(\"FM F1 Score:\",f1_eval.evaluate(fm_preds))"
   ]
  },
  {
   "cell_type": "code",
   "execution_count": 27,
   "id": "575da730",
   "metadata": {},
   "outputs": [
    {
     "name": "stdout",
     "output_type": "stream",
     "text": [
      "DT Precision Score: 0.9129430346387561\n",
      "RF Precision Score: 0.9184470026255015\n",
      "GB Precision Score: 0.923983335406044\n",
      "FM Precision Score: 0.9324626253952144\n"
     ]
    }
   ],
   "source": [
    "precision_eval = MulticlassClassificationEvaluator(labelCol='PrivateIndex',metricName='weightedPrecision')\n",
    "print(\"DT Precision Score:\",precision_eval.evaluate(dtc_preds))\n",
    "print(\"RF Precision Score:\",precision_eval.evaluate(rfc_preds))\n",
    "print(\"GB Precision Score:\",precision_eval.evaluate(gbc_preds))\n",
    "print(\"FM Precision Score:\",precision_eval.evaluate(fm_preds))"
   ]
  },
  {
   "cell_type": "code",
   "execution_count": 28,
   "id": "1dcdf49a",
   "metadata": {},
   "outputs": [
    {
     "name": "stdout",
     "output_type": "stream",
     "text": [
      "DT Recall Score: 0.9144385026737968\n",
      "RF Recall Score: 0.9197860962566845\n",
      "GB Recall Score: 0.9251336898395722\n",
      "FM Recall Score: 0.93048128342246\n"
     ]
    }
   ],
   "source": [
    "recall_eval = MulticlassClassificationEvaluator(labelCol='PrivateIndex',metricName='weightedRecall')\n",
    "print(\"DT Recall Score:\",recall_eval.evaluate(dtc_preds))\n",
    "print(\"RF Recall Score:\",recall_eval.evaluate(rfc_preds))\n",
    "print(\"GB Recall Score:\",recall_eval.evaluate(gbc_preds))\n",
    "print(\"FM Recall Score:\",recall_eval.evaluate(fm_preds))"
   ]
  },
  {
   "cell_type": "code",
   "execution_count": 29,
   "id": "bc3c9dbe",
   "metadata": {},
   "outputs": [
    {
     "name": "stdout",
     "output_type": "stream",
     "text": [
      "DT Log Loss Score: 1.598167883571452\n",
      "RF Log Loss Score: 0.16477105437949827\n",
      "GB Log Loss Score: 0.231188364605086\n",
      "FM Log Loss Score: 2.4010914071328275\n"
     ]
    }
   ],
   "source": [
    "logloss_eval = MulticlassClassificationEvaluator(labelCol='PrivateIndex',metricName='logLoss')\n",
    "print(\"DT Log Loss Score:\",logloss_eval.evaluate(dtc_preds))\n",
    "print(\"RF Log Loss Score:\",logloss_eval.evaluate(rfc_preds))\n",
    "print(\"GB Log Loss Score:\",logloss_eval.evaluate(gbc_preds))\n",
    "print(\"FM Log Loss Score:\",logloss_eval.evaluate(fm_preds))"
   ]
  },
  {
   "cell_type": "code",
   "execution_count": 30,
   "id": "969cd2df",
   "metadata": {},
   "outputs": [
    {
     "data": {
      "text/plain": [
       "CrossValidator_597bee8fb940"
      ]
     },
     "execution_count": 30,
     "metadata": {},
     "output_type": "execute_result"
    }
   ],
   "source": [
    "param_grid = ParamGridBuilder().addGrid(dtc.maxDepth,[5,10,15]).addGrid(dtc.impurity,['entropy','gini']).addGrid(dtc.minInstancesPerNode,[1,5,10]).build()\n",
    "\n",
    "dt_cross_eval = CrossValidator(estimator=dtc,\n",
    "                           estimatorParamMaps=param_grid,\n",
    "                           evaluator=acc_eval,\n",
    "                           numFolds=3)\n",
    "dt_cross_eval"
   ]
  },
  {
   "cell_type": "code",
   "execution_count": 31,
   "id": "2d91e3be",
   "metadata": {},
   "outputs": [
    {
     "data": {
      "text/plain": [
       "CrossValidatorModel_a0d64997c016"
      ]
     },
     "execution_count": 31,
     "metadata": {},
     "output_type": "execute_result"
    }
   ],
   "source": [
    "dt_cv = dt_cross_eval.fit(train_df)\n",
    "dt_cv"
   ]
  },
  {
   "cell_type": "code",
   "execution_count": 35,
   "id": "67857727",
   "metadata": {},
   "outputs": [
    {
     "data": {
      "text/plain": [
       "DecisionTreeClassificationModel: uid=DecisionTreeClassifier_07e3660b1e33, depth=4, numNodes=11, numClasses=2, numFeatures=17"
      ]
     },
     "execution_count": 35,
     "metadata": {},
     "output_type": "execute_result"
    }
   ],
   "source": [
    "optimized_dt_model = dt_cv.bestModel\n",
    "optimized_dt_model"
   ]
  },
  {
   "cell_type": "code",
   "execution_count": 36,
   "id": "9490cf50",
   "metadata": {},
   "outputs": [
    {
     "data": {
      "text/plain": [
       "5"
      ]
     },
     "execution_count": 36,
     "metadata": {},
     "output_type": "execute_result"
    }
   ],
   "source": [
    "optimized_dt_model.getMaxDepth()"
   ]
  },
  {
   "cell_type": "code",
   "execution_count": 38,
   "id": "d1b81263",
   "metadata": {},
   "outputs": [
    {
     "data": {
      "text/plain": [
       "'gini'"
      ]
     },
     "execution_count": 38,
     "metadata": {},
     "output_type": "execute_result"
    }
   ],
   "source": [
    "optimized_dt_model.getImpurity()"
   ]
  },
  {
   "cell_type": "code",
   "execution_count": 39,
   "id": "28c4be53",
   "metadata": {},
   "outputs": [
    {
     "data": {
      "text/plain": [
       "10"
      ]
     },
     "execution_count": 39,
     "metadata": {},
     "output_type": "execute_result"
    }
   ],
   "source": [
    "optimized_dt_model.getMinInstancesPerNode()"
   ]
  },
  {
   "cell_type": "code",
   "execution_count": 40,
   "id": "5c4c62e2",
   "metadata": {},
   "outputs": [
    {
     "data": {
      "text/plain": [
       "0.9144385026737968"
      ]
     },
     "execution_count": 40,
     "metadata": {},
     "output_type": "execute_result"
    }
   ],
   "source": [
    "optimized_dt_preds = optimized_dt_model.transform(test_df)\n",
    "acc_eval.evaluate(optimized_dt_preds)"
   ]
  },
  {
   "cell_type": "code",
   "execution_count": 42,
   "id": "885a4128",
   "metadata": {},
   "outputs": [
    {
     "data": {
      "text/plain": [
       "CrossValidator_4964c04509d5"
      ]
     },
     "execution_count": 42,
     "metadata": {},
     "output_type": "execute_result"
    }
   ],
   "source": [
    "param_grid = ParamGridBuilder().addGrid(rfc.numTrees,[20,100,150,200]).addGrid(rfc.impurity,['gini','entropy']).addGrid(rfc.featureSubsetStrategy,['sqrt','log2','onethird','all','auto']).build()\n",
    "\n",
    "rf_cross_eval = CrossValidator(estimator=rfc,\n",
    "                              estimatorParamMaps=param_grid,\n",
    "                              evaluator=acc_eval,\n",
    "                              numFolds=3)\n",
    "rf_cross_eval"
   ]
  },
  {
   "cell_type": "code",
   "execution_count": 44,
   "id": "c460ee3f",
   "metadata": {},
   "outputs": [
    {
     "data": {
      "text/plain": [
       "CrossValidatorModel_6bd1d6faf6ed"
      ]
     },
     "execution_count": 44,
     "metadata": {},
     "output_type": "execute_result"
    }
   ],
   "source": [
    "rf_cv = rf_cross_eval.fit(train_df)\n",
    "rf_cv"
   ]
  },
  {
   "cell_type": "code",
   "execution_count": 45,
   "id": "f2dc6847",
   "metadata": {},
   "outputs": [
    {
     "data": {
      "text/plain": [
       "RandomForestClassificationModel: uid=RandomForestClassifier_76209eb8ad04, numTrees=150, numClasses=2, numFeatures=17"
      ]
     },
     "execution_count": 45,
     "metadata": {},
     "output_type": "execute_result"
    }
   ],
   "source": [
    "optimized_rf_model = rf_cv.bestModel\n",
    "optimized_rf_model"
   ]
  },
  {
   "cell_type": "code",
   "execution_count": 47,
   "id": "3294a0dd",
   "metadata": {},
   "outputs": [
    {
     "data": {
      "text/plain": [
       "150"
      ]
     },
     "execution_count": 47,
     "metadata": {},
     "output_type": "execute_result"
    }
   ],
   "source": [
    "optimized_rf_model.getNumTrees"
   ]
  },
  {
   "cell_type": "code",
   "execution_count": 48,
   "id": "c0fd4cdb",
   "metadata": {},
   "outputs": [
    {
     "data": {
      "text/plain": [
       "'gini'"
      ]
     },
     "execution_count": 48,
     "metadata": {},
     "output_type": "execute_result"
    }
   ],
   "source": [
    "optimized_rf_model.getImpurity()"
   ]
  },
  {
   "cell_type": "code",
   "execution_count": 49,
   "id": "bdcc71bd",
   "metadata": {},
   "outputs": [
    {
     "data": {
      "text/plain": [
       "'onethird'"
      ]
     },
     "execution_count": 49,
     "metadata": {},
     "output_type": "execute_result"
    }
   ],
   "source": [
    "optimized_rf_model.getFeatureSubsetStrategy()"
   ]
  },
  {
   "cell_type": "code",
   "execution_count": 50,
   "id": "928a97d6",
   "metadata": {},
   "outputs": [
    {
     "data": {
      "text/plain": [
       "0.9411764705882353"
      ]
     },
     "execution_count": 50,
     "metadata": {},
     "output_type": "execute_result"
    }
   ],
   "source": [
    "optimized_rf_preds = optimized_rf_model.transform(test_df)\n",
    "acc_eval.evaluate(optimized_rf_preds)"
   ]
  },
  {
   "cell_type": "code",
   "execution_count": 57,
   "id": "e2751414",
   "metadata": {},
   "outputs": [],
   "source": [
    "optimized_rf_model.save('private_college_classifier.pkl')"
   ]
  },
  {
   "cell_type": "code",
   "execution_count": 59,
   "id": "b9d43e38",
   "metadata": {
    "scrolled": true
   },
   "outputs": [
    {
     "data": {
      "text/plain": [
       "RandomForestClassificationModel: uid=RandomForestClassifier_76209eb8ad04, numTrees=150, numClasses=2, numFeatures=17"
      ]
     },
     "execution_count": 59,
     "metadata": {},
     "output_type": "execute_result"
    }
   ],
   "source": [
    "loaded_model = RandomForestClassificationModel.load('private_college_classifier.pkl')\n",
    "loaded_model"
   ]
  }
 ],
 "metadata": {
  "kernelspec": {
   "display_name": "Python 3 (ipykernel)",
   "language": "python",
   "name": "python3"
  },
  "language_info": {
   "codemirror_mode": {
    "name": "ipython",
    "version": 3
   },
   "file_extension": ".py",
   "mimetype": "text/x-python",
   "name": "python",
   "nbconvert_exporter": "python",
   "pygments_lexer": "ipython3",
   "version": "3.11.5"
  }
 },
 "nbformat": 4,
 "nbformat_minor": 5
}
